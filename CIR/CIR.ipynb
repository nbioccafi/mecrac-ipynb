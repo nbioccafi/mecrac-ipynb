{
 "cells": [
  {
   "cell_type": "markdown",
   "metadata": {},
   "source": [
    "# Cinématica Plana - Cálculo del Centro Instántaneo de Rotación  (CIR)\n",
    "\n",
    "Calculo génerico del CIR dadas las velocidades de dos puntos de un cuerpo\n",
    "\n",
    "## background\n",
    "\n",
    "La velocidad de cualquier punto en un **CR** puede calcularse conocido el **CIR** y la velocidad angular $\\omega$ respecto del mismo.\n",
    "\n",
    "$$ \\mathbf{v} = \\boldsymbol{\\omega} \\times \\mathbf{r}_{CIR}$$\n",
    "\n",
    "En consecuencia, la intersección dada por rectas correspondientes a las perpendiculares de las velocidades se corresponde con el lugar geometrico del **CIR**.\n",
    "\n",
    "En forma parametrica, las lineas ($L_1, L2$) las podemos escribir según:\n",
    "\n",
    "$$L_1 = P_1 + a V^{*}_1$$\n",
    "$$L_2 = P_2 + b V^{*}_2$$\n",
    "\n",
    "siendo $P_1$ y $P_2$ dos puntos donde la velocidad es conocida así como $V^{*}_1$ y $V^{*}_2$ dos vectores perpendiculares a las velocidades $V_1$ y $V_2$, respectivamente. Notar que $a$ y $b$ son dos parámetros arbitrarios ($a,b \\in \\Re$) que mapean la rectas en el espacio Euclediano. \n",
    "\n",
    "Luego, el **CIR** se encuentra en la intersección\n",
    "\n",
    "$$L_1 = L_2 $$\n",
    "$$P_1 + a V^*_1 = P_2 + b V^*_2 $$\n",
    "\n",
    "Aplicando el producto vectorial, es fácil resolver para $a$\n",
    "\n",
    "$$ |a| = \\frac{\\|(P_2 - P_1) \\times V^*_2 \\|}{\\| V^*_1 \\times V^*_2 \\|}$$\n",
    "\n",
    "\n",
    "*Calcular el signo de $a$ requiere un truco*\n",
    "\n",
    "Luego, el **CIR** se encuentra en \n",
    "\n",
    "$$\\textbf{CIR} = P_1 + a V^*_1 $$\n"
   ]
  },
  {
   "cell_type": "markdown",
   "metadata": {},
   "source": [
    "### Implementación en  Python"
   ]
  },
  {
   "cell_type": "code",
   "execution_count": 1,
   "metadata": {},
   "outputs": [],
   "source": [
    "# define puntos y velocidades como arrays en numpy. \n",
    "import numpy as np\n",
    "\n",
    "P1 = np.array([0,1])\n",
    "P2 = np.array([1,0])\n",
    "V1 = np.array([-0.5, 1])\n",
    "V2 = np.array([-1, 0.5])"
   ]
  },
  {
   "cell_type": "code",
   "execution_count": 2,
   "metadata": {},
   "outputs": [
    {
     "name": "stdout",
     "output_type": "stream",
     "text": [
      "a = -2.00\n",
      "CIR: x = 2.00, y = 2.00\n"
     ]
    }
   ],
   "source": [
    "# precomputa algunas magnitudes (útil para su implementación en WM)\n",
    "p2p1 = P2 - P1\n",
    "\n",
    "# calcula perpendiculares\n",
    "V1_ = np.empty(2)\n",
    "V2_ = np.empty(2)\n",
    "\n",
    "# 'compute' orthogonal vectors to velocities V1 and V2.\n",
    "V1_[0] = -V1[1]\n",
    "V1_[1] = V1[0]\n",
    "V2_[0] = -V2[1]\n",
    "V2_[1] = V2[0]\n",
    "\n",
    "cross1 = np.cross(p2p1,V2_)\n",
    "cross2 = np.cross(V1_,V2_)\n",
    "\n",
    "a = cross1 / cross2\n",
    "\n",
    "CIR = P1 + a * V1_\n",
    "\n",
    "print('a = %.2f' % a)\n",
    "print('CIR: x = %.2f, y = %.2f' % (CIR[0],CIR[1]))"
   ]
  },
  {
   "cell_type": "code",
   "execution_count": 4,
   "metadata": {},
   "outputs": [
    {
     "data": {
      "image/png": "[encoded data removed]",
      "text/plain": [
       "<Figure size 432x288 with 1 Axes>"
      ]
     },
     "metadata": {
      "needs_background": "light"
     },
     "output_type": "display_data"
    }
   ],
   "source": [
    "import matplotlib.pyplot as plt\n",
    "\n",
    "# list attributes\n",
    "P = [P1,P2]\n",
    "V = [V1,V2]\n",
    "V_ = [V1_, V2_]\n",
    "\n",
    "#plt(P1[0],P1[1])\n",
    "fig = plt.figure()\n",
    "ax  = plt.subplot(111)\n",
    "for i,(pi,vi) in enumerate(zip(P,V)):\n",
    "    ax.plot(pi[0],pi[1], marker='o',label='P'+str(i+1))\n",
    "    ax.quiver(pi[0],pi[1],vi[0],vi[1],scale=None)\n",
    "\n",
    "# intersection lines plot only works in matplotlib 3.3.0+\n",
    "#plt.axline((P1[0],P1[1]), slope=V1_[1]/V1_[0], color=\"black\", linestyle=(0, (5, 5)))\n",
    "#plt.axline((P2[0],P2[1]), slope=V2_[1]/V2_[0], color=\"black\", linestyle=(0, (5, 5)))\n",
    "ax.plot(CIR[0],CIR[1], marker='x',markersize=10)\n",
    "\n",
    "ax.legend()\n",
    "plt.show()\n"
   ]
  },
  {
   "cell_type": "markdown",
   "metadata": {},
   "source": [
    "## Implementación en Working Model (WM)\n",
    "\n",
    "La implementación en *WM* del cálculo del **CIR** se puede realizar con el procedimiento descripto arriba por intemedio de scripts dentro del entorno de *WM*. \n"
   ]
  },
  {
   "cell_type": "code",
   "execution_count": 10,
   "metadata": {},
   "outputs": [
    {
     "name": "stdout",
     "output_type": "stream",
     "text": [
      "CIR_x = Point[6].p.x + cross(Point[7].p - Point[6].p,vector(-Point[7].v.y, Point[7].v.x))/cross(vector(-Point[6].v.y, Point[6].v.x),vector(-Point[7].v.y, Point[7].v.x)) * vector(-Point[6].v.y, Point[6].v.x).x\n",
      "CIR_y = Point[6].p.y + cross(Point[7].p - Point[6].p,vector(-Point[7].v.y, Point[7].v.x))/cross(vector(-Point[6].v.y, Point[6].v.x),vector(-Point[7].v.y, Point[7].v.x)) * vector(-Point[6].v.y, Point[6].v.x).y\n"
     ]
    }
   ],
   "source": [
    "# Playing with python and strings. \n",
    "# Here, I will define variables as strings and then propagate overall expresssions (as complex as I want.)\n",
    "# to not get messy during the process.\n",
    "\n",
    "gOut = 'output[10]'\n",
    "P1   = 'Point[6].p'\n",
    "P2   = 'Point[7].p'\n",
    "v1   = 'Point[6].v'\n",
    "v2   = 'Point[7].v'\n",
    "\n",
    "# function vector(x,y) returns a vector from x,y numbers.\n",
    "v1_  = f'vector(-{v1}.y, {v1}.x)'   # orthogonal to v1 \n",
    "v2_  = f'vector(-{v2}.y, {v2}.x)'   # orthogonal to v2\n",
    "\n",
    "# function cross(a,b) ruturns the z-th component (as a number) of the cross product (a x b).\n",
    "cross1 = f'cross({P2} - {P1},{v2_})'\n",
    "cross2 = f'cross({v1_},{v2_})'\n",
    "\n",
    "# computes 'a' (see 'background' notes)\n",
    "a = f'{cross1}/{cross2}'\n",
    "\n",
    "# computes CIR\n",
    "CIR_x = f'{P1}.x + {a} * {v1_}.x'\n",
    "CIR_y = f'{P1}.y + {a} * {v1_}.y'\n",
    "\n",
    "\n",
    "print(f'CIR_x = {CIR_x}')\n",
    "print(f'CIR_y = {CIR_y}')\n",
    "\n",
    "\n",
    "# v1_x = f'{gOut}.y1'\n",
    "# v1_y = f'{gOut}.y2'\n",
    "# v2_x = f'{gOut}.y3'\n",
    "# v2_y = f'{gOut}.y4'\n",
    "\n",
    "# v1_vec = f'vector({v1_x}, {v1_y})'\n",
    "# v2_vec = f'vector({v2_x}, {v2_y})'\n",
    "\n",
    "\n",
    "# cross1 = f'cross({P2} - {P1}, {v2_vec})'\n",
    "\n",
    "# cross2 = f'cross({v1_vec}, {v2_vec})'\n",
    "\n",
    "# a      = f'({cross1})/({cross2})'\n",
    "\n",
    "# OK, now variable 'a' it is store as output[11].y3 and output[11].y4. Right now, they return the same value.\n",
    "# a_WM = 'output[11].y3'   # This value must be hardcoded from the user side.\n",
    "# CIR_x = f'{P1}.x + {a_WM} * {v1_x}'\n",
    "# CIR_y = f'{P1}.y + {a_WM} * {v1_y}'\n",
    "\n",
    "# print(f'cross1 = {cross1}')\n",
    "# print(f'cross2 = {cross2}')\n",
    "# print(f'a = {a}')\n",
    "# print(f'CIR_x = {CIR_x}')\n",
    "# print(f'CIR_y = {CIR_y}')"
   ]
  },
  {
   "cell_type": "code",
   "execution_count": null,
   "metadata": {},
   "outputs": [],
   "source": []
  }
 ],
 "metadata": {
  "kernelspec": {
   "display_name": "Python 3",
   "language": "python",
   "name": "python3"
  },
  "language_info": {
   "codemirror_mode": {
    "name": "ipython",
    "version": 3
   },
   "file_extension": ".py",
   "mimetype": "text/x-python",
   "name": "python",
   "nbconvert_exporter": "python",
   "pygments_lexer": "ipython3",
   "version": "3.7.3"
  }
 },
 "nbformat": 4,
 "nbformat_minor": 4
}
