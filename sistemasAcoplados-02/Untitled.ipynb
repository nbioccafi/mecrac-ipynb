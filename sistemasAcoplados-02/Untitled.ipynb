{
 "cells": [
  {
   "cell_type": "markdown",
   "metadata": {},
   "source": [
    "# problema parcial \n",
    "\n",
    "pendulo físico sobre resorte vertical. \n"
   ]
  },
  {
   "cell_type": "markdown",
   "metadata": {},
   "source": [
    "## resolución por SymPy "
   ]
  },
  {
   "cell_type": "code",
   "execution_count": 4,
   "metadata": {},
   "outputs": [],
   "source": [
    "# definicion de modulos a utilizar\n",
    "from sympy import *\n",
    "from sympy.physics.mechanics import *\n",
    "init_printing()\n",
    "\n",
    "import numpy as np"
   ]
  },
  {
   "cell_type": "markdown",
   "metadata": {},
   "source": [
    "## definición de variables"
   ]
  },
  {
   "cell_type": "code",
   "execution_count": 22,
   "metadata": {},
   "outputs": [],
   "source": [
    "# simbolic variables definition\n",
    "q1,  q2  = dynamicsymbols('q_1 q_2')               # generalized coordinates\n",
    "qt1, qt2 = dynamicsymbols('q_1 q_2', 1)            # \n",
    "m, I, k, l, g = symbols('m I k l, g', real = True)      # generic constants\n",
    "\n",
    "# define generalized coordinates as a python list\n",
    "q = [q1,q2]\n",
    "\n",
    "# real variables definition as a python dictionary\n",
    "setupValues = {m:1, I:1, k:1, l:1, g:9.8}\n",
    "\n",
    "op_point = {q1:0, q2:0, qt1:0, qt2:0}\n"
   ]
  },
  {
   "cell_type": "markdown",
   "metadata": {},
   "source": [
    "## Lagrangiano\n",
    "\n",
    "Cálculo de la energía cinética ($T$) y potencial ($V$) en términos de las coordenadas generalizadas ($q_{i}$) y sus velocidades ($\\dot{q}_i$). Luego el Lagrangiano del sistema resulta\n",
    "$$ \\mathcal{L} = T - V $$"
   ]
  },
  {
   "cell_type": "code",
   "execution_count": 6,
   "metadata": {},
   "outputs": [
    {
     "data": {
      "image/png": "[encoded data removed]",
      "text/latex": [
       "$\\displaystyle 0.5 I \\left(\\frac{d}{d t} \\operatorname{q_{2}}{\\left(t \\right)}\\right)^{2} - g m \\left(l \\left(1 - \\cos{\\left(\\operatorname{q_{2}}{\\left(t \\right)} \\right)}\\right) - \\operatorname{q_{1}}{\\left(t \\right)}\\right) - 0.5 k \\operatorname{q_{1}}^{2}{\\left(t \\right)} + 0.5 m \\left(\\frac{l^{2} \\left(\\frac{d}{d t} \\operatorname{q_{2}}{\\left(t \\right)}\\right)^{2}}{4} - \\sin{\\left(\\operatorname{q_{2}}{\\left(t \\right)} \\right)} \\frac{d}{d t} \\operatorname{q_{1}}{\\left(t \\right)} \\frac{d}{d t} \\operatorname{q_{2}}{\\left(t \\right)} + \\left(\\frac{d}{d t} \\operatorname{q_{1}}{\\left(t \\right)}\\right)^{2}\\right)$"
      ],
      "text/plain": [
       "                                                                             ⎛\n",
       "                                                                             ⎜\n",
       "                 2                                                           ⎜\n",
       "      ⎛d        ⎞                                               2            ⎜\n",
       "0.5⋅I⋅⎜──(q₂(t))⎟  - g⋅m⋅(l⋅(1 - cos(q₂(t))) - q₁(t)) - 0.5⋅k⋅q₁ (t) + 0.5⋅m⋅⎜\n",
       "      ⎝dt       ⎠                                                            ⎝\n",
       "\n",
       "              2                                                ⎞\n",
       " 2 ⎛d        ⎞                                                 ⎟\n",
       "l ⋅⎜──(q₂(t))⎟                                                2⎟\n",
       "   ⎝dt       ⎠               d         d           ⎛d        ⎞ ⎟\n",
       "─────────────── - sin(q₂(t))⋅──(q₁(t))⋅──(q₂(t)) + ⎜──(q₁(t))⎟ ⎟\n",
       "       4                     dt        dt          ⎝dt       ⎠ ⎠"
      ]
     },
     "metadata": {},
     "output_type": "display_data"
    }
   ],
   "source": [
    "T = 0.5*m*(qt1**2 + (l/2*qt2)**2 - qt1*qt2*cos(pi/2-q2)) + 0.5*I*qt2**2\n",
    "#T = 0.5*m*(qt1**2 + (l/2*qt2)**2) + 0.5*I*qt2**2\n",
    "V = m*g*(l*(1-cos(q2)) - q1) + 0.5*k*q1**2\n",
    "L = T- V\n",
    "\n",
    "display(L)"
   ]
  },
  {
   "cell_type": "code",
   "execution_count": 7,
   "metadata": {},
   "outputs": [
    {
     "data": {
      "text/latex": [
       "$\\displaystyle \\left[\\begin{matrix}- g m + 1.0 k q_{1} - 0.5 m \\left(\\operatorname{sin}\\left(q_{2}\\right) \\ddot{q}_{2} + \\operatorname{cos}\\left(q_{2}\\right) \\dot{q}_{2}^{2} - 2 \\ddot{q}_{1}\\right)\\\\1.0 I \\ddot{q}_{2} + 1.0 g l m \\operatorname{sin}\\left(q_{2}\\right) + 0.25 l^{2} m \\ddot{q}_{2} - 0.5 m \\operatorname{sin}\\left(q_{2}\\right) \\ddot{q}_{1}\\end{matrix}\\right]$"
      ],
      "text/plain": [
       "⎡                          ⎛                         2        ⎞   ⎤\n",
       "⎢  -g⋅m + 1.0⋅k⋅q₁ - 0.5⋅m⋅⎝sin(q₂)⋅q₂̈ + cos(q₂)⋅q₂̇  - 2⋅q₁̈⎠   ⎥\n",
       "⎢                                                                 ⎥\n",
       "⎢                                      2                          ⎥\n",
       "⎣1.0⋅I⋅q₂̈ + 1.0⋅g⋅l⋅m⋅sin(q₂) + 0.25⋅l ⋅m⋅q₂̈ - 0.5⋅m⋅sin(q₂)⋅q₁̈⎦"
      ]
     },
     "metadata": {},
     "output_type": "display_data"
    }
   ],
   "source": [
    "LM = LagrangesMethod(L,[q1,q2])\n",
    "\n",
    "mechanics_printing(pretty_print=True)\n",
    "LM.form_lagranges_equations()\n",
    "EOM = LM.eom\n",
    "display(simplify(EOM))"
   ]
  },
  {
   "cell_type": "code",
   "execution_count": 21,
   "metadata": {},
   "outputs": [
    {
     "data": {
      "text/plain": [
       "<sympy.physics.mechanics.linearize.Linearizer at 0x7fc88a3320f0>"
      ]
     },
     "metadata": {},
     "output_type": "display_data"
    }
   ],
   "source": [
    "linearizer = LM.to_linearizer(q_ind=[q1,q2], qd_ind=[qt1,qt2])\n",
    "#print(LM.to_linearizer.__doc__)\n",
    "dir(linearizer)\n",
    "display(linearizer)"
   ]
  },
  {
   "cell_type": "code",
   "execution_count": 31,
   "metadata": {},
   "outputs": [],
   "source": [
    "A, B = linearizer.linearize(A_and_B=True)\n",
    "A, B = linearizer.linearize(A_and_B=True,op_point=op_point)"
   ]
  },
  {
   "cell_type": "code",
   "execution_count": 32,
   "metadata": {},
   "outputs": [
    {
     "data": {
      "text/latex": [
       "$\\displaystyle \\left[\\begin{matrix}0 & 0 & 1 & 0\\\\0 & 0 & 0 & 1\\\\- \\frac{1.0 k}{m} & 0.5 \\ddot{q}_{2} & 0 & 0\\\\0 & \\frac{- g l m + 0.5 m \\ddot{q}_{1}}{1.0 I + 0.25 l^{2} m} & 0 & 0\\end{matrix}\\right]$"
      ],
      "text/plain": [
       "⎡   0             0           1  0⎤\n",
       "⎢                                 ⎥\n",
       "⎢   0             0           0  1⎥\n",
       "⎢                                 ⎥\n",
       "⎢-1.0⋅k                           ⎥\n",
       "⎢───────       0.5⋅q₂̈        0  0⎥\n",
       "⎢   m                             ⎥\n",
       "⎢                                 ⎥\n",
       "⎢         -g⋅l⋅m + 0.5⋅m⋅q₁̈      ⎥\n",
       "⎢   0     ──────────────────  0  0⎥\n",
       "⎢                       2         ⎥\n",
       "⎣         1.0⋅I + 0.25⋅l ⋅m       ⎦"
      ]
     },
     "execution_count": 32,
     "metadata": {},
     "output_type": "execute_result"
    }
   ],
   "source": [
    "A"
   ]
  },
  {
   "cell_type": "code",
   "execution_count": null,
   "metadata": {},
   "outputs": [],
   "source": []
  }
 ],
 "metadata": {
  "kernelspec": {
   "display_name": "Python 3",
   "language": "python",
   "name": "python3"
  },
  "language_info": {
   "codemirror_mode": {
    "name": "ipython",
    "version": 3
   },
   "file_extension": ".py",
   "mimetype": "text/x-python",
   "name": "python",
   "nbconvert_exporter": "python",
   "pygments_lexer": "ipython3",
   "version": "3.7.3"
  }
 },
 "nbformat": 4,
 "nbformat_minor": 2
}
