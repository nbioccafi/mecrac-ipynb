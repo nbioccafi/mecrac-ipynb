{
 "cells": [
  {
   "cell_type": "markdown",
   "metadata": {},
   "source": [
    "# Sistema de tres grados de libertad\n",
    "\n",
    "Resuelve el sistema de la [figura](variablesDefinition.png), haciendo uso de [SymPy](https://www.sympy.org), una biblioteca en [Python](https://www.python.org) para mostrar el potencial del uso de herramientas computacionales en este tipo de problemas. \n",
    "\n",
    "![figura](variablesDefinition.png \"sistema de tres grado de libertad\")\n"
   ]
  },
  {
   "cell_type": "code",
   "execution_count": 358,
   "metadata": {},
   "outputs": [],
   "source": [
    "# definicion de modulos a utilizar\n",
    "from sympy import *\n",
    "from sympy.physics.mechanics import *\n",
    "init_printing()"
   ]
  },
  {
   "cell_type": "markdown",
   "metadata": {},
   "source": [
    "## Definición de variables"
   ]
  },
  {
   "cell_type": "code",
   "execution_count": 354,
   "metadata": {},
   "outputs": [],
   "source": [
    "# simbolic variables definition\n",
    "q1, q2, q3    = dynamicsymbols('q_1 q_2 q_3')              # coordenadas generalizadas\n",
    "qt1, qt2, qt3 = dynamicsymbols('q_1 q_2 q_3', 1)           # 1ra derivadas coordenadas generalizadas\n",
    "m1, m2, m3    = symbols('m_1 m_2 m_3', real = True)        # masas puntuales\n",
    "k1, k2, k3    = symbols('k_1 k_2 k_3', real = True)        # constantes elásticas\n",
    "\n",
    "# define generalized coordinates as a python list\n",
    "q = [q1,q2,q3]\n",
    "\n",
    "# real variables definition as a python dictionary\n",
    "setupValues = {k1:50, k2:50, k3:50, m1:1, m2:1, m3:1}"
   ]
  },
  {
   "cell_type": "markdown",
   "metadata": {},
   "source": [
    "## Lagrangiano\n",
    "\n",
    "Cálculo de la energía cinética ($T$) y potencial ($V$) en términos de las coordenadas generalizadas ($q_{i}$) y sus velocidades ($\\dot{q}_i$). Luego el Lagrangiano del sistema resulta\n",
    "$$ \\mathcal{L} = T - V $$"
   ]
  },
  {
   "cell_type": "code",
   "execution_count": 362,
   "metadata": {},
   "outputs": [
    {
     "data": {
      "image/png": "[encoded data removed]",
      "text/latex": [
       "$\\displaystyle 0.5 m_{1} \\left(\\frac{d}{d t} \\operatorname{q_{1}}{\\left(t \\right)}\\right)^{2} + 0.5 m_{2} \\left(\\frac{d}{d t} \\operatorname{q_{2}}{\\left(t \\right)}\\right)^{2} + 0.5 m_{3} \\left(\\frac{d}{d t} \\operatorname{q_{3}}{\\left(t \\right)}\\right)^{2}$"
      ],
      "text/plain": [
       "                  2                     2                     2\n",
       "       ⎛d        ⎞           ⎛d        ⎞           ⎛d        ⎞ \n",
       "0.5⋅m₁⋅⎜──(q₁(t))⎟  + 0.5⋅m₂⋅⎜──(q₂(t))⎟  + 0.5⋅m₃⋅⎜──(q₃(t))⎟ \n",
       "       ⎝dt       ⎠           ⎝dt       ⎠           ⎝dt       ⎠ "
      ]
     },
     "metadata": {},
     "output_type": "display_data"
    },
    {
     "data": {
      "image/png": "[encoded data removed]",
      "text/latex": [
       "$\\displaystyle 0.5 k_{1} \\operatorname{q_{1}}^{2}{\\left(t \\right)} + 0.5 k_{2} \\left(- \\operatorname{q_{1}}{\\left(t \\right)} + \\operatorname{q_{2}}{\\left(t \\right)}\\right)^{2} + 0.5 k_{3} \\left(- \\operatorname{q_{2}}{\\left(t \\right)} + \\operatorname{q_{3}}{\\left(t \\right)}\\right)^{2}$"
      ],
      "text/plain": [
       "         2                             2                          2\n",
       "0.5⋅k₁⋅q₁ (t) + 0.5⋅k₂⋅(-q₁(t) + q₂(t))  + 0.5⋅k₃⋅(-q₂(t) + q₃(t)) "
      ]
     },
     "metadata": {},
     "output_type": "display_data"
    },
    {
     "data": {
      "image/png": "[encoded data removed]",
      "text/latex": [
       "$\\displaystyle - 0.5 k_{1} \\operatorname{q_{1}}^{2}{\\left(t \\right)} - 0.5 k_{2} \\left(- \\operatorname{q_{1}}{\\left(t \\right)} + \\operatorname{q_{2}}{\\left(t \\right)}\\right)^{2} - 0.5 k_{3} \\left(- \\operatorname{q_{2}}{\\left(t \\right)} + \\operatorname{q_{3}}{\\left(t \\right)}\\right)^{2} + 0.5 m_{1} \\left(\\frac{d}{d t} \\operatorname{q_{1}}{\\left(t \\right)}\\right)^{2} + 0.5 m_{2} \\left(\\frac{d}{d t} \\operatorname{q_{2}}{\\left(t \\right)}\\right)^{2} + 0.5 m_{3} \\left(\\frac{d}{d t} \\operatorname{q_{3}}{\\left(t \\right)}\\right)^{2}$"
      ],
      "text/plain": [
       "                                                                              \n",
       "           2                             2                          2         \n",
       "- 0.5⋅k₁⋅q₁ (t) - 0.5⋅k₂⋅(-q₁(t) + q₂(t))  - 0.5⋅k₃⋅(-q₂(t) + q₃(t))  + 0.5⋅m₁\n",
       "                                                                              \n",
       "\n",
       "            2                     2                     2\n",
       " ⎛d        ⎞           ⎛d        ⎞           ⎛d        ⎞ \n",
       "⋅⎜──(q₁(t))⎟  + 0.5⋅m₂⋅⎜──(q₂(t))⎟  + 0.5⋅m₃⋅⎜──(q₃(t))⎟ \n",
       " ⎝dt       ⎠           ⎝dt       ⎠           ⎝dt       ⎠ "
      ]
     },
     "metadata": {},
     "output_type": "display_data"
    }
   ],
   "source": [
    "T = 1/2*m1*qt1**2 + 1/2*m2*qt2**2 + 1/2*m3*qt3**2           # energía cinética\n",
    "V = 1/2*k1*q1**2 + 1/2*k2*(q2-q1)**2 + 1/2*k3*(q3-q2)**2    # energía potencial\n",
    "L = T - V                                                   # lagrangiano\n",
    "\n",
    "display(T,V,L)"
   ]
  },
  {
   "cell_type": "markdown",
   "metadata": {},
   "source": [
    "## Ecuaciones de movimiento - EOM (equation of motion)\n",
    "Luego las ecuaciones de movimiento podemos obtenerlas según\n",
    "$$\\frac{d}{dt} \\frac{\\partial \\mathcal{L}}{\\partial \\dot{q}_{i}} - \\frac{\\partial \\mathcal{L}}{\\partial q_{i}} = 0 \\qquad \\forall i =1,2,3 $$ "
   ]
  },
  {
   "cell_type": "markdown",
   "metadata": {},
   "source": [
    "### Mediante el uso de algebra simbólica de SymPy"
   ]
  },
  {
   "cell_type": "code",
   "execution_count": 118,
   "metadata": {
    "scrolled": true
   },
   "outputs": [
    {
     "data": {
      "image/png": "[encoded data removed]",
      "text/latex": [
       "$\\displaystyle 1.0 k_{1} \\operatorname{q_{1}}{\\left(t \\right)} + 0.5 k_{2} \\left(2 \\operatorname{q_{1}}{\\left(t \\right)} - 2 \\operatorname{q_{2}}{\\left(t \\right)}\\right) + 1.0 m_{1} \\frac{d^{2}}{d t^{2}} \\operatorname{q_{1}}{\\left(t \\right)}$"
      ],
      "text/plain": [
       "                                                     2       \n",
       "                                                    d        \n",
       "1.0⋅k₁⋅q₁(t) + 0.5⋅k₂⋅(2⋅q₁(t) - 2⋅q₂(t)) + 1.0⋅m₁⋅───(q₁(t))\n",
       "                                                     2       \n",
       "                                                   dt        "
      ]
     },
     "metadata": {},
     "output_type": "display_data"
    },
    {
     "data": {
      "image/png": "[encoded data removed]",
      "text/latex": [
       "$\\displaystyle 0.5 k_{2} \\left(- 2 \\operatorname{q_{1}}{\\left(t \\right)} + 2 \\operatorname{q_{2}}{\\left(t \\right)}\\right) + 0.5 k_{3} \\left(2 \\operatorname{q_{2}}{\\left(t \\right)} - 2 \\operatorname{q_{3}}{\\left(t \\right)}\\right) + 1.0 m_{2} \\frac{d^{2}}{d t^{2}} \\operatorname{q_{2}}{\\left(t \\right)}$"
      ],
      "text/plain": [
       "                                                                    2       \n",
       "                                                                   d        \n",
       "0.5⋅k₂⋅(-2⋅q₁(t) + 2⋅q₂(t)) + 0.5⋅k₃⋅(2⋅q₂(t) - 2⋅q₃(t)) + 1.0⋅m₂⋅───(q₂(t))\n",
       "                                                                    2       \n",
       "                                                                  dt        "
      ]
     },
     "metadata": {},
     "output_type": "display_data"
    },
    {
     "data": {
      "image/png": "[encoded data removed]",
      "text/latex": [
       "$\\displaystyle 0.5 k_{3} \\left(- 2 \\operatorname{q_{2}}{\\left(t \\right)} + 2 \\operatorname{q_{3}}{\\left(t \\right)}\\right) + 1.0 m_{3} \\frac{d^{2}}{d t^{2}} \\operatorname{q_{3}}{\\left(t \\right)}$"
      ],
      "text/plain": [
       "                                       2       \n",
       "                                      d        \n",
       "0.5⋅k₃⋅(-2⋅q₂(t) + 2⋅q₃(t)) + 1.0⋅m₃⋅───(q₃(t))\n",
       "                                       2       \n",
       "                                     dt        "
      ]
     },
     "metadata": {},
     "output_type": "display_data"
    }
   ],
   "source": [
    "# compute motion equations\n",
    "eq1 = diff(diff(L, qt1), 't') - diff(L, q1)\n",
    "eq2 = diff(diff(L, qt2), 't') - diff(L, q2)\n",
    "eq3 = diff(diff(L, qt3), 't') - diff(L, q3)\n",
    "\n",
    "# simplify eqs  \n",
    "simplify(eq1);simplify(eq2);simplify(eq3)\n",
    "\n",
    "# show them\n",
    "display(eq1,eq2,eq3)"
   ]
  },
  {
   "cell_type": "markdown",
   "metadata": {},
   "source": [
    "### Mediante el uso del módulo *physics/mechanics* de SymPy\n",
    "Aquí seguimos las intrucciones de [*sympy - mechanics/physics package*](https://docs.sympy.org/latest/modules/physics/mechanics/lagrange.html)"
   ]
  },
  {
   "cell_type": "code",
   "execution_count": 395,
   "metadata": {
    "scrolled": true
   },
   "outputs": [
    {
     "data": {
      "text/latex": [
       "$\\displaystyle \\left[\\begin{matrix}1.0 k_{1} q_{1} + k_{2} \\left(q_{1} - q_{2}\\right) + 1.0 m_{1} \\ddot{q}_{1}\\\\- 1.0 k_{2} \\left(q_{1} - q_{2}\\right) + k_{3} \\left(q_{2} - q_{3}\\right) + 1.0 m_{2} \\ddot{q}_{2}\\\\- 1.0 k_{3} \\left(q_{2} - q_{3}\\right) + 1.0 m_{3} \\ddot{q}_{3}\\end{matrix}\\right]$"
      ],
      "text/plain": [
       "⎡    1.0⋅k₁⋅q₁ + k₂⋅(q₁ - q₂) + 1.0⋅m₁⋅q₁̈    ⎤\n",
       "⎢                                             ⎥\n",
       "⎢-1.0⋅k₂⋅(q₁ - q₂) + k₃⋅(q₂ - q₃) + 1.0⋅m₂⋅q₂̈⎥\n",
       "⎢                                             ⎥\n",
       "⎣       -1.0⋅k₃⋅(q₂ - q₃) + 1.0⋅m₃⋅q₃̈        ⎦"
      ]
     },
     "metadata": {},
     "output_type": "display_data"
    }
   ],
   "source": [
    "# 1ro, creamos el objeto lagrangeano \n",
    "LM = LagrangesMethod(L,[q1,q2,q3])\n",
    "\n",
    "# 2do, con el objeto LM, podemos generar las ecuaciones de movimiento.\n",
    "mechanics_printing(pretty_print=True)\n",
    "LM.form_lagranges_equations()     # coinciden con las anteriores, calculadas \"manualmente\"\n",
    "EOM = LM.eom\n",
    "display(simplify(EOM))"
   ]
  },
  {
   "cell_type": "markdown",
   "metadata": {},
   "source": [
    "## Cálculo de autovalores y autovectores\n",
    "\n",
    "El ecuaciones de movimiento (EOMs) pueden ser escritas en forma matricial con el siguiente formato:\n",
    "\n",
    "$$\\mathrm{M} ~ \\ddot{q} + \\mathrm{K} ~ q = 0 $$\n",
    "siendo $\\mathrm{M}$ y $\\mathrm{K}$ las matrices de masas y rigidez del sistema.\n",
    "\n",
    "El cálculo de modos normales surge naturalmente introduciendo en el sistema de ecuaciones, soluciones de la forma:\n",
    "\n",
    "$$q_{i} = q_{i0} cos(\\omega t + \\phi_{io})$$\n",
    "siendo $q_{i0}$, $\\omega$  y $\\phi_{i0}$, la amplitud, la velocidad angular y fase inicial del movimiento, respectivamente.\n",
    "\n",
    "El sistema resultante es de la forma:\n",
    "\n",
    "$$( \\mathrm{K} - \\omega^{2} \\mathrm{M} ) ~ q_{0} ~ cos(\\omega t) = 0$$\n",
    "siendo $q_{0}$ un vector cuyas componenetes son las amplitudes $q_{io}$.\n",
    "\n",
    "Para que el sistema tenga solución distinta a la trivial ($q_{i0} = 0 ~ \\forall i$), se requiere que el sistema no sea invertible, es decir que su determinante sea nulo:\n",
    "\n",
    "$$ \\text{det}( \\mathrm{K} - \\omega^{2} \\mathrm{M} ) = 0 $$"
   ]
  },
  {
   "cell_type": "markdown",
   "metadata": {},
   "source": [
    "### Matriz de Masas $\\mathbf{M}$"
   ]
  },
  {
   "cell_type": "code",
   "execution_count": 401,
   "metadata": {},
   "outputs": [
    {
     "data": {
      "text/latex": [
       "$\\displaystyle \\left[\\begin{matrix}1.0 m_{1} & 0 & 0\\\\0 & 1.0 m_{2} & 0\\\\0 & 0 & 1.0 m_{3}\\end{matrix}\\right]$"
      ],
      "text/plain": [
       "⎡1.0⋅m₁    0       0   ⎤\n",
       "⎢                      ⎥\n",
       "⎢  0     1.0⋅m₂    0   ⎥\n",
       "⎢                      ⎥\n",
       "⎣  0       0     1.0⋅m₃⎦"
      ]
     },
     "metadata": {},
     "output_type": "display_data"
    },
    {
     "data": {
      "text/latex": [
       "$\\displaystyle \\left[\\begin{matrix}1.0 & 0 & 0\\\\0 & 1.0 & 0\\\\0 & 0 & 1.0\\end{matrix}\\right]$"
      ],
      "text/plain": [
       "⎡1.0   0    0 ⎤\n",
       "⎢             ⎥\n",
       "⎢ 0   1.0   0 ⎥\n",
       "⎢             ⎥\n",
       "⎣ 0    0   1.0⎦"
      ]
     },
     "metadata": {},
     "output_type": "display_data"
    }
   ],
   "source": [
    "M = LM.mass_matrix\n",
    "display(M)\n",
    "display(M.subs(setupValues))"
   ]
  },
  {
   "cell_type": "markdown",
   "metadata": {},
   "source": [
    "### Matriz de Rígidez $\\mathbf{K}$"
   ]
  },
  {
   "cell_type": "code",
   "execution_count": 402,
   "metadata": {},
   "outputs": [
    {
     "data": {
      "text/latex": [
       "$\\displaystyle \\left[\\begin{matrix}1.0 k_{1} + 1.0 k_{2} & - 1.0 k_{2} & 0\\\\- 1.0 k_{2} & 1.0 k_{2} + 1.0 k_{3} & - 1.0 k_{3}\\\\0 & - 1.0 k_{3} & 1.0 k_{3}\\end{matrix}\\right]$"
      ],
      "text/plain": [
       "⎡1.0⋅k₁ + 1.0⋅k₂      -1.0⋅k₂         0   ⎤\n",
       "⎢                                         ⎥\n",
       "⎢    -1.0⋅k₂      1.0⋅k₂ + 1.0⋅k₃  -1.0⋅k₃⎥\n",
       "⎢                                         ⎥\n",
       "⎣       0             -1.0⋅k₃      1.0⋅k₃ ⎦"
      ]
     },
     "metadata": {},
     "output_type": "display_data"
    },
    {
     "data": {
      "text/latex": [
       "$\\displaystyle \\left[\\begin{matrix}100.0 & -50.0 & 0\\\\-50.0 & 100.0 & -50.0\\\\0 & -50.0 & 50.0\\end{matrix}\\right]$"
      ],
      "text/plain": [
       "⎡100.0  -50.0    0  ⎤\n",
       "⎢                   ⎥\n",
       "⎢-50.0  100.0  -50.0⎥\n",
       "⎢                   ⎥\n",
       "⎣  0    -50.0  50.0 ⎦"
      ]
     },
     "metadata": {},
     "output_type": "display_data"
    }
   ],
   "source": [
    "K = -LM.forcing.jacobian(q)  # el signo - se corresponde por definicion de SymPy, usa F = ma, F = Kx\n",
    "display(K)\n",
    "display(K.subs(setupValues))"
   ]
  },
  {
   "cell_type": "code",
   "execution_count": null,
   "metadata": {},
   "outputs": [],
   "source": []
  },
  {
   "cell_type": "code",
   "execution_count": 394,
   "metadata": {},
   "outputs": [
    {
     "data": {
      "text/latex": [
       "$\\displaystyle \\left[\\begin{matrix}-100.0 & 50.0 & 0\\\\50.0 & -100.0 & 50.0\\\\0 & 50.0 & -50.0\\end{matrix}\\right]$"
      ],
      "text/plain": [
       "⎡-100.0   50.0     0  ⎤\n",
       "⎢                     ⎥\n",
       "⎢ 50.0   -100.0  50.0 ⎥\n",
       "⎢                     ⎥\n",
       "⎣  0      50.0   -50.0⎦"
      ]
     },
     "metadata": {},
     "output_type": "display_data"
    },
    {
     "name": "stdout",
     "output_type": "stream",
     "text": [
      "-250/3 - 50*(7/2 + 21*sqrt(3)*I/2)**(1/3)/3 - 350/(3*(7/2 + 21*sqrt(3)*I/2)**(1/3))\n",
      "-250/3 - 50*(-1/2 + sqrt(3)*I/2)*(7/2 + 21*sqrt(3)*I/2)**(1/3)/3 - 350/(3*(-1/2 + sqrt(3)*I/2)*(7/2 + 21*sqrt(3)*I/2)**(1/3))\n",
      "-250/3 - 350/(3*(-1/2 - sqrt(3)*I/2)*(7/2 + 21*sqrt(3)*I/2)**(1/3)) - 50*(-1/2 - sqrt(3)*I/2)*(7/2 + 21*sqrt(3)*I/2)**(1/3)/3\n"
     ]
    },
    {
     "data": {
      "image/png": "[encoded data removed]",
      "text/latex": [
       "$\\displaystyle -83.3333333333333 - \\frac{50 \\operatorname{re}{\\left(\\left(3.5 + \\frac{21 \\sqrt{3} i}{2}\\right)^{0.333333333333333}\\right)}}{3} - \\frac{350 \\operatorname{re}{\\left(\\left(3.5 + \\frac{21 \\sqrt{3} i}{2}\\right)^{-0.333333333333333}\\right)}}{3}$"
      ],
      "text/plain": [
       "                         ⎛               0.333333333333333⎞         ⎛         \n",
       "                         ⎜⎛      21⋅√3⋅ⅈ⎞                 ⎟         ⎜⎛      21\n",
       "                    50⋅re⎜⎜3.5 + ───────⎟                 ⎟   350⋅re⎜⎜3.5 + ──\n",
       "                         ⎝⎝         2   ⎠                 ⎠         ⎝⎝        \n",
       "-83.3333333333333 - ─────────────────────────────────────── - ────────────────\n",
       "                                       3                                      \n",
       "\n",
       "      -0.333333333333333⎞\n",
       "⋅√3⋅ⅈ⎞                  ⎟\n",
       "─────⎟                  ⎟\n",
       " 2   ⎠                  ⎠\n",
       "─────────────────────────\n",
       "    3                    "
      ]
     },
     "execution_count": 394,
     "metadata": {},
     "output_type": "execute_result"
    }
   ],
   "source": [
    "Kp = K.subs(setupValues); display(Kp)\n",
    "eigenValues = simplify(Kp.eigenvals())\n",
    "eigenValues.keys()\n",
    "for key in eigenValues.keys():\n",
    "    print(key)\n",
    "\n",
    "re(-250/3 - 50*(7/2 + 21*sqrt(3)*I/2)**(1/3)/3 - 350/(3*(7/2 + 21*sqrt(3)*I/2)**(1/3)))"
   ]
  },
  {
   "cell_type": "code",
   "execution_count": 370,
   "metadata": {
    "scrolled": true
   },
   "outputs": [
    {
     "data": {
      "text/latex": [
       "$\\displaystyle \\left[\\begin{matrix}1.0 k_{1} q_{10} \\cos{\\left(\\omega t + \\phi \\right)} + k_{2} \\left(q_{10} - q_{20}\\right) \\cos{\\left(\\omega t + \\phi \\right)} + 1.0 m_{1} \\frac{\\partial^{2}}{\\partial t^{2}} q_{10} \\cos{\\left(\\omega t + \\phi \\right)}\\\\- 1.0 k_{2} \\left(q_{10} - q_{20}\\right) \\cos{\\left(\\omega t + \\phi \\right)} + k_{3} \\left(q_{20} - q_{30}\\right) \\cos{\\left(\\omega t + \\phi \\right)} + 1.0 m_{2} \\frac{\\partial^{2}}{\\partial t^{2}} q_{20} \\cos{\\left(\\omega t + \\phi \\right)}\\\\- 1.0 k_{3} \\left(q_{20} - q_{30}\\right) \\cos{\\left(\\omega t + \\phi \\right)} + 1.0 m_{3} \\frac{\\partial^{2}}{\\partial t^{2}} q_{30} \\cos{\\left(\\omega t + \\phi \\right)}\\end{matrix}\\right]$"
      ],
      "text/plain": [
       "⎡                                                                             \n",
       "⎢                                                                             \n",
       "⎢      1.0⋅k₁⋅q_{10}⋅cos(\\omega⋅t + \\phi) + k₂⋅(q_{10} - q_{20})⋅cos(\\omega⋅t \n",
       "⎢                                                                             \n",
       "⎢                                                                             \n",
       "⎢                                                                             \n",
       "⎢                                                                             \n",
       "⎢                                                                             \n",
       "⎢-1.0⋅k₂⋅(q_{10} - q_{20})⋅cos(\\omega⋅t + \\phi) + k₃⋅(q_{20} - q_{30})⋅cos(\\om\n",
       "⎢                                                                             \n",
       "⎢                                                                             \n",
       "⎢                                                                             \n",
       "⎢                                                                             \n",
       "⎢                                                                             \n",
       "⎢                      -1.0⋅k₃⋅(q_{20} - q_{30})⋅cos(\\omega⋅t + \\phi) + 1.0⋅m₃\n",
       "⎢                                                                             \n",
       "⎣                                                                             \n",
       "\n",
       "                   2                                   ⎤\n",
       "                  ∂                                    ⎥\n",
       "+ \\phi) + 1.0⋅m₁⋅───(q_{10}⋅cos(\\omega⋅t + \\phi))      ⎥\n",
       "                   2                                   ⎥\n",
       "                 ∂t                                    ⎥\n",
       "                                                       ⎥\n",
       "                         2                             ⎥\n",
       "                        ∂                              ⎥\n",
       "ega⋅t + \\phi) + 1.0⋅m₂⋅───(q_{20}⋅cos(\\omega⋅t + \\phi))⎥\n",
       "                         2                             ⎥\n",
       "                       ∂t                              ⎥\n",
       "                                                       ⎥\n",
       "   2                                                   ⎥\n",
       "  ∂                                                    ⎥\n",
       "⋅───(q_{30}⋅cos(\\omega⋅t + \\phi))                      ⎥\n",
       "   2                                                   ⎥\n",
       " ∂t                                                    ⎦"
      ]
     },
     "metadata": {},
     "output_type": "display_data"
    }
   ],
   "source": [
    "# cálculo autovalores\n",
    "q10 = symbols('q_{10}', real = True)\n",
    "q20 = symbols('q_{20}', real = True)\n",
    "q30 = symbols('q_{30}', real = True)\n",
    "w   = symbols('\\omega', real = True)\n",
    "phi = symbols('\\phi'  , real = True)\n",
    "\n",
    "# reemplaza la solución propuesta\n",
    "EOMs = EOM.subs({q1:q10*cos(w*t+phi), q2:q20*cos(w*t+phi), q3:q30*cos(w*t+phi)})\n",
    "display(simplify(EOMs))"
   ]
  },
  {
   "cell_type": "code",
   "execution_count": 353,
   "metadata": {
    "scrolled": false
   },
   "outputs": [
    {
     "data": {
      "text/latex": [
       "$\\displaystyle \\left[\\begin{matrix}- 1.0 \\omega^{2} m_{1} + 1.0 k_{1} + 1.0 k_{2} & - 1.0 k_{2} & 0\\\\- 1.0 k_{2} & - 1.0 \\omega^{2} m_{2} + 1.0 k_{2} + 1.0 k_{3} & - 1.0 k_{3}\\\\0 & - 1.0 k_{3} & - 1.0 \\omega^{2} m_{3} + 1.0 k_{3}\\end{matrix}\\right]$"
      ],
      "text/plain": [
       "⎡            2                                                                \n",
       "⎢- 1.0⋅\\omega ⋅m₁ + 1.0⋅k₁ + 1.0⋅k₂               -1.0⋅k₂                     \n",
       "⎢                                                                             \n",
       "⎢                                                2                            \n",
       "⎢             -1.0⋅k₂                - 1.0⋅\\omega ⋅m₂ + 1.0⋅k₂ + 1.0⋅k₃       \n",
       "⎢                                                                             \n",
       "⎢                                                                             \n",
       "⎣                0                                -1.0⋅k₃                - 1.0\n",
       "\n",
       "                    ⎤\n",
       "       0            ⎥\n",
       "                    ⎥\n",
       "                    ⎥\n",
       "    -1.0⋅k₃         ⎥\n",
       "                    ⎥\n",
       "       2            ⎥\n",
       "⋅\\omega ⋅m₃ + 1.0⋅k₃⎦"
      ]
     },
     "metadata": {},
     "output_type": "display_data"
    },
    {
     "data": {
      "image/png": "[encoded data removed]",
      "text/plain": [
       "<Figure size 432x288 with 1 Axes>"
      ]
     },
     "metadata": {
      "needs_background": "light"
     },
     "output_type": "display_data"
    },
    {
     "name": "stdout",
     "output_type": "stream",
     "text": [
      "omega_1 = 3.14692122712948\n",
      "omega_2 = 8.81747733789935\n",
      "omega_3 = 12.7416239226353\n"
     ]
    }
   ],
   "source": [
    "M = LM.mass_matrix\n",
    "K = LM.forcing.jacobian([q1, q2, q3])\n",
    "\n",
    "charMatrix = -K-M*w**2\n",
    "display(charMatrix)\n",
    "charPoly = charMatrix.det()\n",
    "#display(charPoly)\n",
    "\n",
    "# para usar w^2 como variable independiente\n",
    "w2 = symbols('\\omega^{2}')\n",
    "charPoly2 = charPoly.subs(w**2,w2)\n",
    "\n",
    "# set variable values\n",
    "setupValues = {k1:50, k2:50, k3:50, m1:1, m2:1, m3:1}\n",
    "\n",
    "# replace simbolic variables with real values\n",
    "charPoly3 = charPoly2.subs(setupValues) \n",
    "\n",
    "# plot characteristic polynomial\n",
    "p1 = plotting.plot(charPoly3,(w2,0,170),show=False)\n",
    "p1.show()\n",
    "\n",
    "# find roots\n",
    "roots = solve(charPoly3, w2)        # note we are solving for w^2, so w = +sqrt(w^2)\n",
    "for i in range(len(roots)):\n",
    "    wi = sqrt(re(roots[i]))         # compute square root\n",
    "    myString = \"omega_{} = {}\"      \n",
    "    print(myString.format(i+1,wi))  # print i-th root\n"
   ]
  },
  {
   "cell_type": "markdown",
   "metadata": {},
   "source": [
    "## Polinomio caracteristico"
   ]
  },
  {
   "cell_type": "code",
   "execution_count": 371,
   "metadata": {},
   "outputs": [
    {
     "data": {
      "image/png": "[encoded data removed]",
      "text/latex": [
       "$\\displaystyle 5000.0 \\omega^{2} + \\left(50.0 - 1.0 \\omega^{2}\\right) \\left(100.0 - 1.0 \\omega^{2}\\right)^{2} - 375000.0$"
      ],
      "text/plain": [
       "                                                                       2      \n",
       "5000.0⋅\\omega__{2} + (50.0 - 1.0⋅\\omega__{2})⋅(100.0 - 1.0⋅\\omega__{2})  - 375\n",
       "\n",
       "     \n",
       "000.0"
      ]
     },
     "metadata": {},
     "output_type": "display_data"
    },
    {
     "data": {
      "image/png": "[encoded data removed]",
      "text/plain": [
       "<Figure size 432x288 with 1 Axes>"
      ]
     },
     "metadata": {
      "needs_background": "light"
     },
     "output_type": "display_data"
    }
   ],
   "source": [
    "# obtiene polinomio caracteristico calculando el determinante de (K-M*w2)\n",
    "charPoly = charMatrix.det()\n",
    "\n",
    "# para usar w^2 como variable independiente\n",
    "w2 = symbols('\\omega^{2}')\n",
    "charPoly2 = charPoly.subs(w**2,w2)\n",
    "\n",
    "# replace simbolic variables with real values\n",
    "charPoly3 = charPoly2.subs(setupValues)\n",
    "\n",
    "# show poly\n",
    "display(charPoly3)\n",
    "\n",
    "# plot poly\n",
    "p1 = plotting.plot(charPoly3,(w2,0,170),show=False)\n",
    "p1.show()"
   ]
  },
  {
   "cell_type": "markdown",
   "metadata": {},
   "source": [
    "## Autovalores\n",
    "\n",
    "Los autovales pueden ser calculados como las raices del polinomio característico."
   ]
  },
  {
   "cell_type": "code",
   "execution_count": 355,
   "metadata": {},
   "outputs": [
    {
     "name": "stdout",
     "output_type": "stream",
     "text": [
      "omega_1 = 3.14692122712948\n",
      "omega_2 = 8.81747733789935\n",
      "omega_3 = 12.7416239226353\n"
     ]
    }
   ],
   "source": [
    "# find roots\n",
    "roots = solve(charPoly3, w2)        # note we are solving for w^2, so w = +sqrt(w^2)\n",
    "for i in range(len(roots)):\n",
    "    wi = sqrt(re(roots[i]))         # compute square root\n",
    "    myString = \"omega_{} = {}\"      \n",
    "    print(myString.format(i+1,wi))  # print i-th root"
   ]
  },
  {
   "cell_type": "code",
   "execution_count": 372,
   "metadata": {},
   "outputs": [],
   "source": [
    "\n",
    "\n",
    "q10 = symbols('q_{10}', real = True)\n",
    "a = simplify(eqm[0].subs(q1,q10*cos(w*t)))"
   ]
  },
  {
   "cell_type": "code",
   "execution_count": 166,
   "metadata": {},
   "outputs": [
    {
     "data": {
      "text/latex": [
       "$\\displaystyle \\left[\\begin{matrix}m_{1} q_{1} + m_{2} q_{2}\\\\\\left(m_{1} + m_{2}\\right) q_{1}\\end{matrix}\\right]$"
      ],
      "text/plain": [
       "⎡m₁⋅q₁ + m₂⋅q₂⎤\n",
       "⎢             ⎥\n",
       "⎣(m₁ + m₂)⋅q₁ ⎦"
      ]
     },
     "metadata": {},
     "output_type": "display_data"
    },
    {
     "data": {
      "text/latex": [
       "$\\displaystyle \\left[\\begin{matrix}m_{1} & m_{2}\\\\m_{1} + m_{2} & 0\\end{matrix}\\right]$"
      ],
      "text/plain": [
       "⎡  m₁     m₂⎤\n",
       "⎢           ⎥\n",
       "⎣m₁ + m₂  0 ⎦"
      ]
     },
     "execution_count": 166,
     "metadata": {},
     "output_type": "execute_result"
    }
   ],
   "source": [
    "f = Matrix([m1*q1+m2*q2,(m1+m2)*q1])\n",
    "q = Matrix([q1, q2])\n",
    "display(f)\n",
    "f.jacobian(q)"
   ]
  },
  {
   "cell_type": "code",
   "execution_count": 205,
   "metadata": {},
   "outputs": [
    {
     "data": {
      "text/latex": [
       "$\\displaystyle 1.0 k_{1} \\operatorname{cos}\\left(t w\\right) - 1.0 k_{2} \\left(q_{2} - \\operatorname{cos}\\left(t w\\right)\\right) + 1.0 m_{1} \\left(- w^{2} \\operatorname{cos}\\left(t w\\right)\\right)$"
      ],
      "text/plain": [
       "                                                    2          \n",
       "                                                   ∂           \n",
       "1.0⋅k₁⋅cos(t⋅w) - 1.0⋅k₂⋅(q₂ - cos(t⋅w)) + 1.0⋅m₁⋅───(cos(t⋅w))\n",
       "                                                    2          \n",
       "                                                  ∂t           "
      ]
     },
     "metadata": {},
     "output_type": "display_data"
    }
   ],
   "source": [
    "w = symbols('w', real = True)\n",
    "eqm = LM.eom\n",
    "test = eqm[0].subs(q1,cos(w*t))\n",
    "display(simplify(test))"
   ]
  },
  {
   "cell_type": "code",
   "execution_count": 232,
   "metadata": {},
   "outputs": [
    {
     "data": {
      "image/png": "[encoded data removed]",
      "text/latex": [
       "$\\displaystyle q_{1} + 2 \\ddot{q}_{1} + 3$"
      ],
      "text/plain": [
       "q₁ + 2⋅q₁̈ + 3"
      ]
     },
     "metadata": {},
     "output_type": "display_data"
    }
   ],
   "source": [
    "poly = 3 + 1*q1 + 2*Derivative(qt1)\n",
    "poly2= poly.subs(q1,cos(w*t))\n",
    "display(expand(poly,poly2))"
   ]
  },
  {
   "cell_type": "code",
   "execution_count": 130,
   "metadata": {},
   "outputs": [
    {
     "name": "stdout",
     "output_type": "stream",
     "text": [
      "Lagrange's method object.\n",
      "\n",
      "    This object generates the equations of motion in a two step procedure. The\n",
      "    first step involves the initialization of LagrangesMethod by supplying the\n",
      "    Lagrangian and the generalized coordinates, at the bare minimum. If there\n",
      "    are any constraint equations, they can be supplied as keyword arguments.\n",
      "    The Lagrange multipliers are automatically generated and are equal in\n",
      "    number to the constraint equations. Similarly any non-conservative forces\n",
      "    can be supplied in an iterable (as described below and also shown in the\n",
      "    example) along with a ReferenceFrame. This is also discussed further in the\n",
      "    __init__ method.\n",
      "\n",
      "    Attributes\n",
      "    ==========\n",
      "\n",
      "    q, u : Matrix\n",
      "        Matrices of the generalized coordinates and speeds\n",
      "    forcelist : iterable\n",
      "        Iterable of (Point, vector) or (ReferenceFrame, vector) tuples\n",
      "        describing the forces on the system.\n",
      "    bodies : iterable\n",
      "        Iterable containing the rigid bodies and particles of the system.\n",
      "    mass_matrix : Matrix\n",
      "        The system's mass matrix\n",
      "    forcing : Matrix\n",
      "        The system's forcing vector\n",
      "    mass_matrix_full : Matrix\n",
      "        The \"mass matrix\" for the qdot's, qdoubledot's, and the\n",
      "        lagrange multipliers (lam)\n",
      "    forcing_full : Matrix\n",
      "        The forcing vector for the qdot's, qdoubledot's and\n",
      "        lagrange multipliers (lam)\n",
      "\n",
      "    Examples\n",
      "    ========\n",
      "\n",
      "    This is a simple example for a one degree of freedom translational\n",
      "    spring-mass-damper.\n",
      "\n",
      "    In this example, we first need to do the kinematics.\n",
      "    This involves creating generalized coordinates and their derivatives.\n",
      "    Then we create a point and set its velocity in a frame.\n",
      "\n",
      "        >>> from sympy.physics.mechanics import LagrangesMethod, Lagrangian\n",
      "        >>> from sympy.physics.mechanics import ReferenceFrame, Particle, Point\n",
      "        >>> from sympy.physics.mechanics import dynamicsymbols, kinetic_energy\n",
      "        >>> from sympy import symbols\n",
      "        >>> q = dynamicsymbols('q')\n",
      "        >>> qd = dynamicsymbols('q', 1)\n",
      "        >>> m, k, b = symbols('m k b')\n",
      "        >>> N = ReferenceFrame('N')\n",
      "        >>> P = Point('P')\n",
      "        >>> P.set_vel(N, qd * N.x)\n",
      "\n",
      "    We need to then prepare the information as required by LagrangesMethod to\n",
      "    generate equations of motion.\n",
      "    First we create the Particle, which has a point attached to it.\n",
      "    Following this the lagrangian is created from the kinetic and potential\n",
      "    energies.\n",
      "    Then, an iterable of nonconservative forces/torques must be constructed,\n",
      "    where each item is a (Point, Vector) or (ReferenceFrame, Vector) tuple,\n",
      "    with the Vectors representing the nonconservative forces or torques.\n",
      "\n",
      "        >>> Pa = Particle('Pa', P, m)\n",
      "        >>> Pa.potential_energy = k * q**2 / 2.0\n",
      "        >>> L = Lagrangian(N, Pa)\n",
      "        >>> fl = [(P, -b * qd * N.x)]\n",
      "\n",
      "    Finally we can generate the equations of motion.\n",
      "    First we create the LagrangesMethod object. To do this one must supply\n",
      "    the Lagrangian, and the generalized coordinates. The constraint equations,\n",
      "    the forcelist, and the inertial frame may also be provided, if relevant.\n",
      "    Next we generate Lagrange's equations of motion, such that:\n",
      "    Lagrange's equations of motion = 0.\n",
      "    We have the equations of motion at this point.\n",
      "\n",
      "        >>> l = LagrangesMethod(L, [q], forcelist = fl, frame = N)\n",
      "        >>> print(l.form_lagranges_equations())\n",
      "        Matrix([[b*Derivative(q(t), t) + 1.0*k*q(t) + m*Derivative(q(t), (t, 2))]])\n",
      "\n",
      "    We can also solve for the states using the 'rhs' method.\n",
      "\n",
      "        >>> print(l.rhs())\n",
      "        Matrix([[Derivative(q(t), t)], [(-b*Derivative(q(t), t) - 1.0*k*q(t))/m]])\n",
      "\n",
      "    Please refer to the docstrings on each method for more details.\n",
      "    \n"
     ]
    }
   ],
   "source": [
    "print(LM.__doc__)"
   ]
  },
  {
   "cell_type": "code",
   "execution_count": 84,
   "metadata": {},
   "outputs": [
    {
     "data": {
      "image/png": "[encoded data removed]",
      "text/latex": [
       "$\\displaystyle \\frac{d}{d t} x{\\left(t \\right)}$"
      ],
      "text/plain": [
       "d       \n",
       "──(x(t))\n",
       "dt      "
      ]
     },
     "metadata": {},
     "output_type": "display_data"
    }
   ],
   "source": [
    "x  = dynamicsymbols('x')\n",
    "xt = dynamicsymbols('x',1)\n",
    "display(xt)"
   ]
  },
  {
   "cell_type": "code",
   "execution_count": 88,
   "metadata": {},
   "outputs": [],
   "source": [
    "T = 0.5*xt**2\n",
    "V = x\n",
    "L = T - V"
   ]
  },
  {
   "cell_type": "code",
   "execution_count": 89,
   "metadata": {},
   "outputs": [
    {
     "data": {
      "image/png": "[encoded data removed]",
      "text/latex": [
       "$\\displaystyle - x{\\left(t \\right)} + 0.5 \\left(\\frac{d}{d t} x{\\left(t \\right)}\\right)^{2}$"
      ],
      "text/plain": [
       "                      2\n",
       "            ⎛d       ⎞ \n",
       "-x(t) + 0.5⋅⎜──(x(t))⎟ \n",
       "            ⎝dt      ⎠ "
      ]
     },
     "metadata": {},
     "output_type": "display_data"
    }
   ],
   "source": [
    "display(L)"
   ]
  },
  {
   "cell_type": "code",
   "execution_count": 90,
   "metadata": {},
   "outputs": [],
   "source": [
    "f = diff(diff(L, xt), 't') - diff(L, x)"
   ]
  },
  {
   "cell_type": "code",
   "execution_count": 91,
   "metadata": {},
   "outputs": [
    {
     "data": {
      "image/png": "[encoded data removed]",
      "text/latex": [
       "$\\displaystyle 1.0 \\frac{d^{2}}{d t^{2}} x{\\left(t \\right)} + 1$"
      ],
      "text/plain": [
       "      2          \n",
       "     d           \n",
       "1.0⋅───(x(t)) + 1\n",
       "      2          \n",
       "    dt           "
      ]
     },
     "metadata": {},
     "output_type": "display_data"
    }
   ],
   "source": [
    "display(f)"
   ]
  },
  {
   "cell_type": "code",
   "execution_count": null,
   "metadata": {},
   "outputs": [],
   "source": []
  }
 ],
 "metadata": {
  "kernelspec": {
   "display_name": "Python 3",
   "language": "python",
   "name": "python3"
  },
  "language_info": {
   "codemirror_mode": {
    "name": "ipython",
    "version": 3
   },
   "file_extension": ".py",
   "mimetype": "text/x-python",
   "name": "python",
   "nbconvert_exporter": "python",
   "pygments_lexer": "ipython3",
   "version": "3.7.3"
  }
 },
 "nbformat": 4,
 "nbformat_minor": 2
}
