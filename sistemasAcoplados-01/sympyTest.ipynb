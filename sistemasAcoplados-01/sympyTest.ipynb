{
 "cells": [
  {
   "cell_type": "markdown",
   "metadata": {},
   "source": [
    "# Sistema de tres grados de libertad\n",
    "\n",
    "Resuelve el sistema de la [figura](variablesDefinition.png), haciendo uso de [SymPy](https://www.sympy.org), una biblioteca en [Python](https://www.python.org) para mostrar el potencial del uso de herramientas computacionales en este tipo de problemas. \n",
    "\n",
    "![figura](variablesDefinition.png \"sistema de tres grado de libertad\")\n"
   ]
  },
  {
   "cell_type": "code",
   "execution_count": 1,
   "metadata": {},
   "outputs": [],
   "source": [
    "# definicion de modulos a utilizar\n",
    "from sympy import *\n",
    "from sympy.physics.mechanics import *\n",
    "init_printing()\n",
    "\n",
    "import numpy as np"
   ]
  },
  {
   "cell_type": "markdown",
   "metadata": {},
   "source": [
    "## Definición de variables"
   ]
  },
  {
   "cell_type": "code",
   "execution_count": 2,
   "metadata": {},
   "outputs": [],
   "source": [
    "# simbolic variables definition\n",
    "q1, q2, q3    = dynamicsymbols('q_1 q_2 q_3')              # coordenadas generalizadas\n",
    "qt1, qt2, qt3 = dynamicsymbols('q_1 q_2 q_3', 1)           # 1ra derivadas coordenadas generalizadas\n",
    "m1, m2, m3    = symbols('m_1 m_2 m_3', real = True)        # masas puntuales\n",
    "k1, k2, k3    = symbols('k_1 k_2 k_3', real = True)        # constantes elásticas\n",
    "\n",
    "# define generalized coordinates as a python list\n",
    "q = [q1,q2,q3]\n",
    "\n",
    "# real variables definition as a python dictionary\n",
    "setupValues = {k1:50, k2:50, k3:50, m1:1, m2:1, m3:1}\n",
    "\n",
    "# eigenvalues variables definition\n",
    "w   = symbols('\\omega', real = True)\n"
   ]
  },
  {
   "cell_type": "markdown",
   "metadata": {},
   "source": [
    "## Lagrangiano\n",
    "\n",
    "Cálculo de la energía cinética ($T$) y potencial ($V$) en términos de las coordenadas generalizadas ($q_{i}$) y sus velocidades ($\\dot{q}_i$). Luego el Lagrangiano del sistema resulta\n",
    "$$ \\mathcal{L} = T - V $$"
   ]
  },
  {
   "cell_type": "code",
   "execution_count": 3,
   "metadata": {},
   "outputs": [
    {
     "data": {
      "image/png": "[encoded data removed]",
      "text/latex": [
       "$\\displaystyle 0.5 m_{1} \\left(\\frac{d}{d t} \\operatorname{q_{1}}{\\left(t \\right)}\\right)^{2} + 0.5 m_{2} \\left(\\frac{d}{d t} \\operatorname{q_{2}}{\\left(t \\right)}\\right)^{2} + 0.5 m_{3} \\left(\\frac{d}{d t} \\operatorname{q_{3}}{\\left(t \\right)}\\right)^{2}$"
      ],
      "text/plain": [
       "                  2                     2                     2\n",
       "       ⎛d        ⎞           ⎛d        ⎞           ⎛d        ⎞ \n",
       "0.5⋅m₁⋅⎜──(q₁(t))⎟  + 0.5⋅m₂⋅⎜──(q₂(t))⎟  + 0.5⋅m₃⋅⎜──(q₃(t))⎟ \n",
       "       ⎝dt       ⎠           ⎝dt       ⎠           ⎝dt       ⎠ "
      ]
     },
     "metadata": {},
     "output_type": "display_data"
    },
    {
     "data": {
      "image/png": "[encoded data removed]",
      "text/latex": [
       "$\\displaystyle 0.5 k_{1} \\operatorname{q_{1}}^{2}{\\left(t \\right)} + 0.5 k_{2} \\left(- \\operatorname{q_{1}}{\\left(t \\right)} + \\operatorname{q_{2}}{\\left(t \\right)}\\right)^{2} + 0.5 k_{3} \\left(- \\operatorname{q_{2}}{\\left(t \\right)} + \\operatorname{q_{3}}{\\left(t \\right)}\\right)^{2}$"
      ],
      "text/plain": [
       "         2                             2                          2\n",
       "0.5⋅k₁⋅q₁ (t) + 0.5⋅k₂⋅(-q₁(t) + q₂(t))  + 0.5⋅k₃⋅(-q₂(t) + q₃(t)) "
      ]
     },
     "metadata": {},
     "output_type": "display_data"
    },
    {
     "data": {
      "image/png": "[encoded data removed]",
      "text/latex": [
       "$\\displaystyle - 0.5 k_{1} \\operatorname{q_{1}}^{2}{\\left(t \\right)} - 0.5 k_{2} \\left(- \\operatorname{q_{1}}{\\left(t \\right)} + \\operatorname{q_{2}}{\\left(t \\right)}\\right)^{2} - 0.5 k_{3} \\left(- \\operatorname{q_{2}}{\\left(t \\right)} + \\operatorname{q_{3}}{\\left(t \\right)}\\right)^{2} + 0.5 m_{1} \\left(\\frac{d}{d t} \\operatorname{q_{1}}{\\left(t \\right)}\\right)^{2} + 0.5 m_{2} \\left(\\frac{d}{d t} \\operatorname{q_{2}}{\\left(t \\right)}\\right)^{2} + 0.5 m_{3} \\left(\\frac{d}{d t} \\operatorname{q_{3}}{\\left(t \\right)}\\right)^{2}$"
      ],
      "text/plain": [
       "                                                                              \n",
       "           2                             2                          2         \n",
       "- 0.5⋅k₁⋅q₁ (t) - 0.5⋅k₂⋅(-q₁(t) + q₂(t))  - 0.5⋅k₃⋅(-q₂(t) + q₃(t))  + 0.5⋅m₁\n",
       "                                                                              \n",
       "\n",
       "            2                     2                     2\n",
       " ⎛d        ⎞           ⎛d        ⎞           ⎛d        ⎞ \n",
       "⋅⎜──(q₁(t))⎟  + 0.5⋅m₂⋅⎜──(q₂(t))⎟  + 0.5⋅m₃⋅⎜──(q₃(t))⎟ \n",
       " ⎝dt       ⎠           ⎝dt       ⎠           ⎝dt       ⎠ "
      ]
     },
     "metadata": {},
     "output_type": "display_data"
    }
   ],
   "source": [
    "T = 1/2*m1*qt1**2 + 1/2*m2*qt2**2 + 1/2*m3*qt3**2           # energía cinética\n",
    "V = 1/2*k1*q1**2 + 1/2*k2*(q2-q1)**2 + 1/2*k3*(q3-q2)**2    # energía potencial\n",
    "L = T - V                                                   # lagrangiano\n",
    "\n",
    "display(T,V,L)"
   ]
  },
  {
   "cell_type": "markdown",
   "metadata": {},
   "source": [
    "## Ecuaciones de movimiento - EOM (equation of motion)\n",
    "Luego las ecuaciones de movimiento podemos obtenerlas según\n",
    "$$\\frac{d}{dt} \\frac{\\partial \\mathcal{L}}{\\partial \\dot{q}_{i}} - \\frac{\\partial \\mathcal{L}}{\\partial q_{i}} = 0 \\qquad \\forall i =1,2,3 $$ "
   ]
  },
  {
   "cell_type": "markdown",
   "metadata": {},
   "source": [
    "### Mediante el uso de algebra simbólica de SymPy"
   ]
  },
  {
   "cell_type": "code",
   "execution_count": 4,
   "metadata": {
    "scrolled": true
   },
   "outputs": [
    {
     "data": {
      "image/png": "[encoded data removed]",
      "text/latex": [
       "$\\displaystyle 1.0 k_{1} \\operatorname{q_{1}}{\\left(t \\right)} + 0.5 k_{2} \\left(2 \\operatorname{q_{1}}{\\left(t \\right)} - 2 \\operatorname{q_{2}}{\\left(t \\right)}\\right) + 1.0 m_{1} \\frac{d^{2}}{d t^{2}} \\operatorname{q_{1}}{\\left(t \\right)}$"
      ],
      "text/plain": [
       "                                                     2       \n",
       "                                                    d        \n",
       "1.0⋅k₁⋅q₁(t) + 0.5⋅k₂⋅(2⋅q₁(t) - 2⋅q₂(t)) + 1.0⋅m₁⋅───(q₁(t))\n",
       "                                                     2       \n",
       "                                                   dt        "
      ]
     },
     "metadata": {},
     "output_type": "display_data"
    },
    {
     "data": {
      "image/png": "[encoded data removed]",
      "text/latex": [
       "$\\displaystyle 0.5 k_{2} \\left(- 2 \\operatorname{q_{1}}{\\left(t \\right)} + 2 \\operatorname{q_{2}}{\\left(t \\right)}\\right) + 0.5 k_{3} \\left(2 \\operatorname{q_{2}}{\\left(t \\right)} - 2 \\operatorname{q_{3}}{\\left(t \\right)}\\right) + 1.0 m_{2} \\frac{d^{2}}{d t^{2}} \\operatorname{q_{2}}{\\left(t \\right)}$"
      ],
      "text/plain": [
       "                                                                    2       \n",
       "                                                                   d        \n",
       "0.5⋅k₂⋅(-2⋅q₁(t) + 2⋅q₂(t)) + 0.5⋅k₃⋅(2⋅q₂(t) - 2⋅q₃(t)) + 1.0⋅m₂⋅───(q₂(t))\n",
       "                                                                    2       \n",
       "                                                                  dt        "
      ]
     },
     "metadata": {},
     "output_type": "display_data"
    },
    {
     "data": {
      "image/png": "[encoded data removed]",
      "text/latex": [
       "$\\displaystyle 0.5 k_{3} \\left(- 2 \\operatorname{q_{2}}{\\left(t \\right)} + 2 \\operatorname{q_{3}}{\\left(t \\right)}\\right) + 1.0 m_{3} \\frac{d^{2}}{d t^{2}} \\operatorname{q_{3}}{\\left(t \\right)}$"
      ],
      "text/plain": [
       "                                       2       \n",
       "                                      d        \n",
       "0.5⋅k₃⋅(-2⋅q₂(t) + 2⋅q₃(t)) + 1.0⋅m₃⋅───(q₃(t))\n",
       "                                       2       \n",
       "                                     dt        "
      ]
     },
     "metadata": {},
     "output_type": "display_data"
    }
   ],
   "source": [
    "# compute motion equations\n",
    "eq1 = diff(diff(L, qt1), 't') - diff(L, q1)\n",
    "eq2 = diff(diff(L, qt2), 't') - diff(L, q2)\n",
    "eq3 = diff(diff(L, qt3), 't') - diff(L, q3)\n",
    "\n",
    "# simplify eqs  \n",
    "simplify(eq1);simplify(eq2);simplify(eq3)\n",
    "\n",
    "# show them\n",
    "display(eq1,eq2,eq3)"
   ]
  },
  {
   "cell_type": "markdown",
   "metadata": {},
   "source": [
    "### Mediante el uso del módulo *physics/mechanics* de SymPy\n",
    "Aquí seguimos las intrucciones de [*sympy - mechanics/physics package*](https://docs.sympy.org/latest/modules/physics/mechanics/lagrange.html)"
   ]
  },
  {
   "cell_type": "code",
   "execution_count": 5,
   "metadata": {
    "scrolled": true
   },
   "outputs": [
    {
     "data": {
      "text/latex": [
       "$\\displaystyle \\left[\\begin{matrix}1.0 k_{1} q_{1} + k_{2} \\left(q_{1} - q_{2}\\right) + 1.0 m_{1} \\ddot{q}_{1}\\\\- 1.0 k_{2} \\left(q_{1} - q_{2}\\right) + k_{3} \\left(q_{2} - q_{3}\\right) + 1.0 m_{2} \\ddot{q}_{2}\\\\- 1.0 k_{3} \\left(q_{2} - q_{3}\\right) + 1.0 m_{3} \\ddot{q}_{3}\\end{matrix}\\right]$"
      ],
      "text/plain": [
       "⎡    1.0⋅k₁⋅q₁ + k₂⋅(q₁ - q₂) + 1.0⋅m₁⋅q₁̈    ⎤\n",
       "⎢                                             ⎥\n",
       "⎢-1.0⋅k₂⋅(q₁ - q₂) + k₃⋅(q₂ - q₃) + 1.0⋅m₂⋅q₂̈⎥\n",
       "⎢                                             ⎥\n",
       "⎣       -1.0⋅k₃⋅(q₂ - q₃) + 1.0⋅m₃⋅q₃̈        ⎦"
      ]
     },
     "metadata": {},
     "output_type": "display_data"
    }
   ],
   "source": [
    "# 1ro, creamos el objeto lagrangeano \n",
    "LM = LagrangesMethod(L,[q1,q2,q3])\n",
    "\n",
    "# 2do, con el objeto LM, podemos generar las ecuaciones de movimiento.\n",
    "mechanics_printing(pretty_print=True)\n",
    "LM.form_lagranges_equations()     # coinciden con las anteriores, calculadas \"manualmente\"\n",
    "EOM = LM.eom\n",
    "display(simplify(EOM))"
   ]
  },
  {
   "cell_type": "markdown",
   "metadata": {},
   "source": [
    "## Cálculo de autovalores y autovectores\n",
    "\n",
    "El ecuaciones de movimiento (EOMs) pueden ser escritas en forma matricial con el siguiente formato:\n",
    "\n",
    "$$\\mathbf{M} ~ \\ddot{q} + \\mathbf{K} ~ q = 0 $$\n",
    "siendo $\\mathrm{M}$ y $\\mathrm{K}$ las matrices de masas y rigidez del sistema.\n",
    "\n",
    "El cálculo de modos normales surge naturalmente introduciendo en el sistema de ecuaciones, soluciones de la forma:\n",
    "\n",
    "$$q_{i} = q_{i0} cos(\\omega t + \\phi_{io})$$\n",
    "siendo $q_{i0}$, $\\omega$  y $\\phi_{i0}$, la amplitud, la velocidad angular y fase inicial del movimiento, respectivamente.\n",
    "\n",
    "El sistema resultante es de la forma:\n",
    "\n",
    "$$( \\mathbf{K} - \\omega^{2} \\mathbf{M} ) ~ q_{0} ~ cos(\\omega t) = 0$$\n",
    "siendo $q_{0}$ un vector cuyas componenetes son las amplitudes $q_{io}$.\n",
    "\n",
    "Para que el sistema tenga solución distinta a la trivial ($q_{i0} = 0 ~ \\forall i$), se requiere que el sistema no sea invertible, es decir, desde un punto de vista práctico, que su determinante sea nulo:\n",
    "\n",
    "$$ \\text{det}( \\mathbf{K} - \\omega^{2} \\mathbf{M} ) = 0 $$"
   ]
  },
  {
   "cell_type": "markdown",
   "metadata": {},
   "source": [
    "### Matriz de Masas $\\mathbf{M}$"
   ]
  },
  {
   "cell_type": "code",
   "execution_count": 6,
   "metadata": {},
   "outputs": [
    {
     "data": {
      "text/latex": [
       "$\\displaystyle \\left[\\begin{matrix}1.0 m_{1} & 0 & 0\\\\0 & 1.0 m_{2} & 0\\\\0 & 0 & 1.0 m_{3}\\end{matrix}\\right]$"
      ],
      "text/plain": [
       "⎡1.0⋅m₁    0       0   ⎤\n",
       "⎢                      ⎥\n",
       "⎢  0     1.0⋅m₂    0   ⎥\n",
       "⎢                      ⎥\n",
       "⎣  0       0     1.0⋅m₃⎦"
      ]
     },
     "metadata": {},
     "output_type": "display_data"
    },
    {
     "data": {
      "text/latex": [
       "$\\displaystyle \\left[\\begin{matrix}1.0 & 0 & 0\\\\0 & 1.0 & 0\\\\0 & 0 & 1.0\\end{matrix}\\right]$"
      ],
      "text/plain": [
       "⎡1.0   0    0 ⎤\n",
       "⎢             ⎥\n",
       "⎢ 0   1.0   0 ⎥\n",
       "⎢             ⎥\n",
       "⎣ 0    0   1.0⎦"
      ]
     },
     "metadata": {},
     "output_type": "display_data"
    }
   ],
   "source": [
    "M = LM.mass_matrix\n",
    "display(M)\n",
    "display(M.subs(setupValues))"
   ]
  },
  {
   "cell_type": "markdown",
   "metadata": {},
   "source": [
    "### Matriz de Rígidez $\\mathbf{K}$"
   ]
  },
  {
   "cell_type": "code",
   "execution_count": 7,
   "metadata": {},
   "outputs": [
    {
     "data": {
      "text/latex": [
       "$\\displaystyle \\left[\\begin{matrix}1.0 k_{1} + 1.0 k_{2} & - 1.0 k_{2} & 0\\\\- 1.0 k_{2} & 1.0 k_{2} + 1.0 k_{3} & - 1.0 k_{3}\\\\0 & - 1.0 k_{3} & 1.0 k_{3}\\end{matrix}\\right]$"
      ],
      "text/plain": [
       "⎡1.0⋅k₁ + 1.0⋅k₂      -1.0⋅k₂         0   ⎤\n",
       "⎢                                         ⎥\n",
       "⎢    -1.0⋅k₂      1.0⋅k₂ + 1.0⋅k₃  -1.0⋅k₃⎥\n",
       "⎢                                         ⎥\n",
       "⎣       0             -1.0⋅k₃      1.0⋅k₃ ⎦"
      ]
     },
     "metadata": {},
     "output_type": "display_data"
    },
    {
     "data": {
      "text/latex": [
       "$\\displaystyle \\left[\\begin{matrix}100.0 & -50.0 & 0\\\\-50.0 & 100.0 & -50.0\\\\0 & -50.0 & 50.0\\end{matrix}\\right]$"
      ],
      "text/plain": [
       "⎡100.0  -50.0    0  ⎤\n",
       "⎢                   ⎥\n",
       "⎢-50.0  100.0  -50.0⎥\n",
       "⎢                   ⎥\n",
       "⎣  0    -50.0  50.0 ⎦"
      ]
     },
     "metadata": {},
     "output_type": "display_data"
    }
   ],
   "source": [
    "K = -LM.forcing.jacobian(q)  # el signo - se corresponde por definicion de SymPy, usa F = ma, F = Kx\n",
    "display(K)\n",
    "display(K.subs(setupValues))"
   ]
  },
  {
   "cell_type": "markdown",
   "metadata": {},
   "source": [
    "### Cálculo determinante - $\\mathrm{det}(\\mathbf{K}-\\omega^{2} \\mathbf{M})$"
   ]
  },
  {
   "cell_type": "code",
   "execution_count": 8,
   "metadata": {},
   "outputs": [
    {
     "data": {
      "text/latex": [
       "$\\displaystyle \\left[\\begin{matrix}- 1.0 \\omega^{2} m_{1} + 1.0 k_{1} + 1.0 k_{2} & - 1.0 k_{2} & 0\\\\- 1.0 k_{2} & - 1.0 \\omega^{2} m_{2} + 1.0 k_{2} + 1.0 k_{3} & - 1.0 k_{3}\\\\0 & - 1.0 k_{3} & - 1.0 \\omega^{2} m_{3} + 1.0 k_{3}\\end{matrix}\\right]$"
      ],
      "text/plain": [
       "⎡            2                                                                \n",
       "⎢- 1.0⋅\\omega ⋅m₁ + 1.0⋅k₁ + 1.0⋅k₂               -1.0⋅k₂                     \n",
       "⎢                                                                             \n",
       "⎢                                                2                            \n",
       "⎢             -1.0⋅k₂                - 1.0⋅\\omega ⋅m₂ + 1.0⋅k₂ + 1.0⋅k₃       \n",
       "⎢                                                                             \n",
       "⎢                                                                             \n",
       "⎣                0                                -1.0⋅k₃                - 1.0\n",
       "\n",
       "                    ⎤\n",
       "       0            ⎥\n",
       "                    ⎥\n",
       "                    ⎥\n",
       "    -1.0⋅k₃         ⎥\n",
       "                    ⎥\n",
       "       2            ⎥\n",
       "⋅\\omega ⋅m₃ + 1.0⋅k₃⎦"
      ]
     },
     "metadata": {},
     "output_type": "display_data"
    }
   ],
   "source": [
    "# muestra matriz (K - w^{2}*M)\n",
    "display(K-w**2*M)"
   ]
  },
  {
   "cell_type": "markdown",
   "metadata": {},
   "source": [
    "### Cálculo autovalores - $\\lambda$ ($\\omega^{2}$)"
   ]
  },
  {
   "cell_type": "markdown",
   "metadata": {},
   "source": [
    "#### Polinomio carácteristico"
   ]
  },
  {
   "cell_type": "code",
   "execution_count": 18,
   "metadata": {
    "scrolled": true
   },
   "outputs": [
    {
     "name": "stdout",
     "output_type": "stream",
     "text": [
      "poly2 = \n"
     ]
    },
    {
     "data": {
      "image/png": "[encoded data removed]",
      "text/latex": [
       "$\\displaystyle - 1.0 \\left(\\omega^{2}\\right)^{3} m_{1} m_{2} m_{3} + 1.0 \\left(\\omega^{2}\\right)^{2} k_{1} m_{2} m_{3} + 1.0 \\left(\\omega^{2}\\right)^{2} k_{2} m_{1} m_{3} + 1.0 \\left(\\omega^{2}\\right)^{2} k_{2} m_{2} m_{3} + 1.0 \\left(\\omega^{2}\\right)^{2} k_{3} m_{1} m_{2} + 1.0 \\left(\\omega^{2}\\right)^{2} k_{3} m_{1} m_{3} - 1.0 \\omega^{2} k_{1} k_{2} m_{3} - 1.0 \\omega^{2} k_{1} k_{3} m_{2} - 1.0 \\omega^{2} k_{1} k_{3} m_{3} - 1.0 \\omega^{2} k_{2} k_{3} m_{1} - 1.0 \\omega^{2} k_{2} k_{3} m_{2} - 1.0 \\omega^{2} k_{2} k_{3} m_{3} + 1.0 k_{1} k_{2} k_{3}$"
      ],
      "text/plain": [
       "                 3                           2                           2    \n",
       "- 1.0⋅\\omega__{2} ⋅m₁⋅m₂⋅m₃ + 1.0⋅\\omega__{2} ⋅k₁⋅m₂⋅m₃ + 1.0⋅\\omega__{2} ⋅k₂⋅\n",
       "\n",
       "                       2                           2                          \n",
       "m₁⋅m₃ + 1.0⋅\\omega__{2} ⋅k₂⋅m₂⋅m₃ + 1.0⋅\\omega__{2} ⋅k₃⋅m₁⋅m₂ + 1.0⋅\\omega__{2\n",
       "\n",
       " 2                                                                            \n",
       "} ⋅k₃⋅m₁⋅m₃ - 1.0⋅\\omega__{2}⋅k₁⋅k₂⋅m₃ - 1.0⋅\\omega__{2}⋅k₁⋅k₃⋅m₂ - 1.0⋅\\omega\n",
       "\n",
       "                                                                              \n",
       "__{2}⋅k₁⋅k₃⋅m₃ - 1.0⋅\\omega__{2}⋅k₂⋅k₃⋅m₁ - 1.0⋅\\omega__{2}⋅k₂⋅k₃⋅m₂ - 1.0⋅\\om\n",
       "\n",
       "                                \n",
       "ega__{2}⋅k₂⋅k₃⋅m₃ + 1.0⋅k₁⋅k₂⋅k₃"
      ]
     },
     "metadata": {},
     "output_type": "display_data"
    },
    {
     "name": "stdout",
     "output_type": "stream",
     "text": [
      "Poly = \n"
     ]
    },
    {
     "data": {
      "image/png": "[encoded data removed]",
      "text/latex": [
       "$\\displaystyle - 1.0 \\left(\\omega^{2}\\right)^{3} + 250.0 \\left(\\omega^{2}\\right)^{2} - 15000.0 \\omega^{2} + 125000.0$"
      ],
      "text/plain": [
       "                 3                    2                                 \n",
       "- 1.0⋅\\omega__{2}  + 250.0⋅\\omega__{2}  - 15000.0⋅\\omega__{2} + 125000.0"
      ]
     },
     "metadata": {},
     "output_type": "display_data"
    },
    {
     "data": {
      "image/png": "[encoded data removed]",
      "text/plain": [
       "<Figure size 432x288 with 1 Axes>"
      ]
     },
     "metadata": {
      "needs_background": "light"
     },
     "output_type": "display_data"
    }
   ],
   "source": [
    "# calcula determinante\n",
    "poly = (K-w**2*M).det()\n",
    "\n",
    "# para usar w^2 como variable independiente\n",
    "w2 = symbols('\\omega^{2}')          # define w2 como variable independiente\n",
    "poly2 = poly.subs(w**2,w2)          # substituye w2 por w**2\n",
    "print('poly2 = ')\n",
    "display(expand(poly2))\n",
    "\n",
    "# reemplaza variables del sistema por valores reales\n",
    "Poly = poly2.subs(setupValues)\n",
    "print('Poly = ')\n",
    "display(expand(Poly))\n",
    "'''\n",
    "Poly es el polinomio caracteristico, cuyas raices son la solucion\n",
    "de w2, es decir w**2, siendo w las frecuencias naturales de oscilación.\n",
    "''' \n",
    "\n",
    "# plot characteristic polynomial\n",
    "p1 = plotting.plot(-1.0*Poly,(w2,0,170),show=False)      # plotea Poly para w2 entre (0, 170) \n",
    "p1.show()                                           # muestra en pantalla"
   ]
  },
  {
   "cell_type": "markdown",
   "metadata": {},
   "source": [
    "#### Cálculo de raíces"
   ]
  },
  {
   "cell_type": "code",
   "execution_count": 10,
   "metadata": {},
   "outputs": [
    {
     "name": "stdout",
     "output_type": "stream",
     "text": [
      "omega_1 = 3.14692122712948\n",
      "omega_2 = 8.81747733789935\n",
      "omega_3 = 12.7416239226353\n"
     ]
    }
   ],
   "source": [
    "# encuentra las raíces\n",
    "roots = solve(Poly, w2)        # note estamos resolviendo en w2, por tanto w = +sqrt(w2)\n",
    "\n",
    "# muestra raices por pantalla. Dado que el método de resolución puede encontrar \n",
    "# raíces complejas, es usual encontrar raíces reales con un pequeño residuo \n",
    "# complejo. Por esa razón, sólo mostramos la parte real de las raíces. \n",
    "W = []\n",
    "for i in range(len(roots)):\n",
    "    wi = sqrt(re(roots[i]))         # calcula parte real de la raíz y computa la raíz cuadrada\n",
    "    myString = \"omega_{} = {}\"      \n",
    "    print(myString.format(i+1,wi))  # muestra la i-ésima raíz\n",
    "    W.append(wi)                    # guarda las raíces en una lista W"
   ]
  },
  {
   "cell_type": "markdown",
   "metadata": {
    "collapsed": true
   },
   "source": [
    "### Cálculo de autovectores - $\\boldsymbol{v}$ \n",
    "\n",
    "Remplazando los valores de $\\omega_{i}$ en el sistema \n",
    "\n",
    "$$(\\mathbf{K}-\\omega_{i}^{2} \\mathbf{M}) ~ \\mathbf{q} = 0$$\n",
    "Surgen tantos sistemas de ecuaciones de como grados de libertad (DOF) tenga el sistema (en este caso tres: $\\omega_{1}$, $\\omega_{2}$ y $\\omega_{3}$) con DOF incógnitas cada uno de ellos. \n",
    "\n",
    "Dado que la información relevante de los autovectores, no es una magnitud sino su dirección, es posible resolver el sistema de ecuaciones asignando arbitrariamente un valor a una de las incognitas para cada uno de los sistemas, es decir realizar una reducción del mismo\n",
    "\n",
    "$$ A_{ij} q_{0j} = - q_{0k} A_{ik} \\qquad  \\forall i,j\\neq k $$\n",
    "siendo $q_{0k}$ un valor asignado arbitrariamente."
   ]
  },
  {
   "cell_type": "code",
   "execution_count": 11,
   "metadata": {},
   "outputs": [
    {
     "data": {
      "text/plain": [
       "array([[ 1.        ,  1.80193774,  2.2469796 ],\n",
       "       [ 1.        ,  0.44504187, -0.80193774],\n",
       "       [ 1.        , -1.2469796 ,  0.55495813]])"
      ]
     },
     "metadata": {},
     "output_type": "display_data"
    },
    {
     "data": {
      "text/latex": [
       "$\\displaystyle \\left[\\begin{matrix}22.2520933956315 & -50.0 & 0\\\\-50.0 & 22.2520933956315 & -50.0\\\\0 & -50.0 & -27.7479066043685\\end{matrix}\\right]$"
      ],
      "text/plain": [
       "⎡22.2520933956315       -50.0                0        ⎤\n",
       "⎢                                                     ⎥\n",
       "⎢     -50.0        22.2520933956315        -50.0      ⎥\n",
       "⎢                                                     ⎥\n",
       "⎣       0               -50.0        -27.7479066043685⎦"
      ]
     },
     "execution_count": 11,
     "metadata": {},
     "output_type": "execute_result"
    }
   ],
   "source": [
    "# Resolución sistema de ecuaciones Ax=b por reducción \n",
    "\n",
    "n = len(q)                              # dimensión del sistema de ecuaciones (=DOF)\n",
    "x = np.zeros(len(q))                    # init x. q is a list formed by generalized coordinates q_{i}\n",
    "eigenVectors = np.zeros([n,n])\n",
    "x = np.zeros(n)\n",
    "\n",
    "for i in range(len(W)):\n",
    "    A = (K-W[i]**2*M).subs(setupValues)\n",
    "    Anp = np.array(A).astype(np.float64)    # cast SymPy Matrix into numpy array\n",
    "    Ar = Anp[1:,1:]                         # sistema de ecuaciones reducido. Elimina 1er DOF \n",
    "    br = 0.0\n",
    "    br = br - 1.0 * Anp[1:,0]               # asume amplitud unitaria en la eliminación del 1er DOF\n",
    "    x[0] = 1.0                              # consistente con la reduccion en br\n",
    "    x[1:] = np.linalg.solve(Ar, br)         # solves Ar*x = br system throught numpy functions\n",
    "    eigenVectors[i,:] = x               \n",
    "\n",
    "\n",
    "display(eigenVectors)    # muestra la solución\n",
    "(K-W[1]**2*M).subs(setupValues)\n"
   ]
  },
  {
   "cell_type": "markdown",
   "metadata": {},
   "source": [
    "### Autovector - $\\boldsymbol{v}$\n",
    "\n",
    "La figura muestra en forma cualitativa la representación del autovector $\\boldsymbol{v}_{1}$, dado que se encuentra en el primer octante del espacio de configuraciones compredido por $(q_{1}, q_{2}, q_{3})$ (asumiendo unitaria la componente en $q_{1}$).\n",
    "\n",
    "![figura](eigenvector.png)\n",
    "\n",
    "Proyectando el autovector $\\boldsymbol{v}_{1}$ en cada uno de los planos, se observan los espacios de configuraciones $q_{1} q_{2}$, $q_{1} q_{3}$ y $q_{2} q_{3}$"
   ]
  },
  {
   "cell_type": "markdown",
   "metadata": {},
   "source": [
    "## Solución general\n",
    "\n",
    "La solución general al problema de oscilaciones libres la podemos escribir como una combinación lineal de los $n$ modos normales de oscilación.\n",
    "\n",
    "$$ q_{i}(t) = \\sum_{l=1}^{n} c_{l} v_{i}^{l} cos(\\omega_l t + \\phi_{l0}) $$\n",
    "siendo $v_{i}^{l}$ la i-ésima componente del autovector $\\boldsymbol{v}$ asociado al l-ésimo autovalor $\\lambda$. Por otro lado $c_{l}$ y $\\phi_{l0}$ son constantes a determinar determinar que surgen de las condiciones iniciales del sistema, $q_{i0}$ y $\\dot{q}_{i0}$.\n",
    "\n",
    "Por otro lado, un manera sencilla de hacer oscilar al sistema en un modo normal, es perturbarlo de la posición de equilibrio en la dirección del autovector $\\boldsymbol{v}$ asociado al autovalor $\\lambda$ deseado. \n",
    "\n",
    "\n",
    "\n",
    "\n",
    "Para poner al sistema completo a oscilar en el modo normal $\\omega_{k}$, necesariamente la solución general del problema se ve reducida a:\n",
    "\n",
    "$$ q_{i} = c_{i} v_{i}^{k} cos(\\omega_{k} t + \\phi_{k0})$$\n",
    "\n",
    "Además, si asumimos velocidades iniciales nulas, $\\dot{q}_{i0} = 0$, es fácíl notar que $\\phi_{k0} = 0$. \n",
    "\n",
    "$$ q_{i} = c_{i} v_{i}^{k} cos(\\omega_{k} t)$$\n",
    "\n",
    "Esta ecuación representa la ecuación de una recta, donde las constantes $c_{i}$ de ajustan con las condiciones iniciales $q_{i0}$"
   ]
  },
  {
   "cell_type": "code",
   "execution_count": 12,
   "metadata": {},
   "outputs": [
    {
     "name": "stdout",
     "output_type": "stream",
     "text": [
      "C:\n"
     ]
    },
    {
     "data": {
      "text/plain": [
       "array([ 0.12085868, -0.21777981,  0.09692113])"
      ]
     },
     "metadata": {},
     "output_type": "display_data"
    },
    {
     "data": {
      "text/plain": [
       "array([[ 1.        ,  1.        ,  1.        ],\n",
       "       [ 1.80193774,  0.44504187, -1.2469796 ],\n",
       "       [ 2.2469796 , -0.80193774,  0.55495813]])"
      ]
     },
     "metadata": {},
     "output_type": "display_data"
    },
    {
     "data": {
      "text/plain": [
       "array([ 0.,  0., -0.])"
      ]
     },
     "metadata": {},
     "output_type": "display_data"
    }
   ],
   "source": [
    "# Calculo solucion general \n",
    "# utiliza formato de combinación lineal de senos y cosenos\n",
    "# \n",
    "\n",
    "# condiciones iniciales\n",
    "q0 = [0.0, 0.0, 0.5]\n",
    "#q0 = [ 1.        ,  1.80193774,  2.2469796 ]\n",
    "#q0 = [ 1.        ,  0.44504187, -0.80193774]\n",
    "#q0 = [ 1.        , -1.2469796 ,  0.55495813]\n",
    "\n",
    "q0n = np.array(q0).astype(np.float64)    # cast python list to a numpy array\n",
    "\n",
    "#print(\"eigenVectors & initialConditions\")\n",
    "#display(np.transpose(eigenVectors), q0n)\n",
    "\n",
    "# solve v_{i}^{l} C_{l} = q_{i0}\n",
    "C = np.linalg.solve(np.transpose(eigenVectors), q0n)\n",
    "\n",
    "print(\"C:\")\n",
    "display(C)\n",
    "\n",
    "# define initial conditions (velocities)\n",
    "q0t = [0.0, 0.0, 0.0]\n",
    "q0tn = np.array(q0t).astype(np.float64)\n",
    "\n",
    "A = np.copy(np.transpose(eigenVectors))\n",
    "display(A)\n",
    "for i in range(n):\n",
    "    A[:,i] = A[:,i] * W[i]\n",
    "\n",
    "S = np.linalg.solve(A, q0tn)\n",
    "    \n",
    "display(S)\n",
    "\n"
   ]
  },
  {
   "cell_type": "markdown",
   "metadata": {},
   "source": [
    "## solución"
   ]
  },
  {
   "cell_type": "code",
   "execution_count": 13,
   "metadata": {},
   "outputs": [],
   "source": [
    "t = np.arange(0., 10., 0.02)\n",
    "\n",
    "qSol=np.zeros((n+1,len(t)))\n",
    "\n",
    "for i in range(n):     # loop for each qSol --> q1,...,qn\n",
    "    qSol[i,:] = 0.0\n",
    "    for j in range(n): # loop for linear combination of normal modes\n",
    "        #qSol[i,:] = qSol[i,:] + C[j]*eigenVectors[i,j]*np.cos(float(W[j])*t)   # linea original\n",
    "        # \n",
    "        qSol[i,:] = qSol[i,:] + C[j]*eigenVectors[j,i]*np.cos(float(W[j])*t)   # \n",
    "\n",
    "#qSol.tofile('qSol.csv',sep=',',format='%10.5f')\n",
    "qSol[3,:] = t\n",
    "np.savetxt('qSol.csv',np.transpose(qSol),delimiter=', ',fmt='%.5e',header='qSol1, qSol2, qSol3, t')"
   ]
  },
  {
   "cell_type": "markdown",
   "metadata": {},
   "source": [
    "## ecuaciones horarios"
   ]
  },
  {
   "cell_type": "code",
   "execution_count": 14,
   "metadata": {},
   "outputs": [],
   "source": [
    "from matplotlib import pyplot as plt "
   ]
  },
  {
   "cell_type": "code",
   "execution_count": 15,
   "metadata": {
    "scrolled": true
   },
   "outputs": [
    {
     "data": {
      "image/png": "[encoded data removed]",
      "text/plain": [
       "<Figure size 432x288 with 3 Axes>"
      ]
     },
     "metadata": {
      "needs_background": "light"
     },
     "output_type": "display_data"
    }
   ],
   "source": [
    "#plt.plot(t,qSol[0,:],t,qSol[1,:],t,qSol[2,:])\n",
    "#plt.show()\n",
    "\n",
    "#\n",
    "fig, axs = plt.subplots(3, sharex=True, sharey=True)\n",
    "axs[0].plot(t, qSol[0,:])\n",
    "axs[1].plot(t, qSol[1,:])\n",
    "axs[2].plot(t, qSol[2,:])\n",
    "\n",
    "\n",
    "# axis size\n",
    "plt.xlim(0,2)\n",
    "plt.ylim()\n",
    "plt.show()\n",
    "\n",
    "\n",
    "fig2 = plt\n"
   ]
  },
  {
   "cell_type": "markdown",
   "metadata": {},
   "source": [
    "## espacio de configuraciones"
   ]
  },
  {
   "cell_type": "code",
   "execution_count": 16,
   "metadata": {},
   "outputs": [
    {
     "data": {
      "image/png": "[encoded data removed]",
      "text/plain": [
       "<Figure size 432x288 with 1 Axes>"
      ]
     },
     "metadata": {
      "needs_background": "light"
     },
     "output_type": "display_data"
    }
   ],
   "source": [
    "plt.plot(qSol[2,:],qSol[1,:])\n",
    "plt.show()"
   ]
  },
  {
   "cell_type": "markdown",
   "metadata": {},
   "source": [
    "## Energía cinética y potencial del sistema"
   ]
  },
  {
   "cell_type": "code",
   "execution_count": 17,
   "metadata": {},
   "outputs": [
    {
     "ename": "SyntaxError",
     "evalue": "invalid syntax (<ipython-input-17-7fbe3d91fafe>, line 17)",
     "output_type": "error",
     "traceback": [
      "\u001b[0;36m  File \u001b[0;32m\"<ipython-input-17-7fbe3d91fafe>\"\u001b[0;36m, line \u001b[0;32m17\u001b[0m\n\u001b[0;31m    qt[]\u001b[0m\n\u001b[0m       ^\u001b[0m\n\u001b[0;31mSyntaxError\u001b[0m\u001b[0;31m:\u001b[0m invalid syntax\n"
     ]
    }
   ],
   "source": [
    "#t = np.arange(0., 10., 0.02)\n",
    "\n",
    "kinetic   = np.zeros(len(t))\n",
    "potential = np.zeros(len(t))\n",
    "\n",
    "#setupValues = {k1:50, k2:50, k3:50, m1:1, m2:1, m3:1}\n",
    "m = 3 * []\n",
    "k = 3 * []\n",
    "m[0] = setupValues['m1']\n",
    "m[1] = setupValues['m2']\n",
    "m[2] = setupValues['m3']\n",
    "k[0] = setupValues['k1']\n",
    "k[1] = setupValues['k2']\n",
    "k[2] = setupValues['k3']\n",
    "\n",
    "qt = 3 * []\n",
    "qt[]\n",
    "\n",
    "T = 1/2*m[0]*qt1**2 + 1/2*m2*qt2**2 + 1/2*m3*qt3**2\n",
    "\n",
    "\n",
    "\n",
    "#T = 1/2*m1*qt1**2 + 1/2*m2*qt2**2 + 1/2*m3*qt3**2           # energía cinética\n",
    "#V = 1/2*k1*q1**2 + 1/2*k2*(q2-q1)**2 + 1/2*k3*(q3-q2)**2    # energía potencial"
   ]
  },
  {
   "cell_type": "code",
   "execution_count": null,
   "metadata": {},
   "outputs": [],
   "source": []
  }
 ],
 "metadata": {
  "kernelspec": {
   "display_name": "Python 3",
   "language": "python",
   "name": "python3"
  },
  "language_info": {
   "codemirror_mode": {
    "name": "ipython",
    "version": 3
   },
   "file_extension": ".py",
   "mimetype": "text/x-python",
   "name": "python",
   "nbconvert_exporter": "python",
   "pygments_lexer": "ipython3",
   "version": "3.7.3"
  }
 },
 "nbformat": 4,
 "nbformat_minor": 2
}
