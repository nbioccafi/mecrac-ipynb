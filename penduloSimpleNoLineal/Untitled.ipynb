{
 "cells": [
  {
   "cell_type": "markdown",
   "metadata": {},
   "source": [
    "# tutorial sympy - pendulo simple"
   ]
  },
  {
   "cell_type": "markdown",
   "metadata": {},
   "source": [
    "## resolución por SymPy "
   ]
  },
  {
   "cell_type": "code",
   "execution_count": 5,
   "metadata": {},
   "outputs": [],
   "source": [
    "# definicion de modulos a utilizar\n",
    "from sympy import *\n",
    "from sympy.physics.mechanics import *\n",
    "mechanics_printing(pretty_print=True)\n",
    "init_printing()\n",
    "\n",
    "import numpy as np"
   ]
  },
  {
   "cell_type": "markdown",
   "metadata": {},
   "source": [
    "## definición de variables"
   ]
  },
  {
   "cell_type": "code",
   "execution_count": 4,
   "metadata": {},
   "outputs": [],
   "source": [
    "q  = dynamicsymbols('q')         # generalized coordinate\n",
    "qt = dynamicsymbols('q',1)       # generalized speed\n",
    "m,g,l = symbols('m g l', real = True)\n",
    "\n",
    "# initial conditions\n",
    "q0  = 1.0\n",
    "qt0 = 0.0\n",
    "\n",
    "# linearlization point\n",
    "op_point = {q:q0, qt:qt0}"
   ]
  },
  {
   "cell_type": "markdown",
   "metadata": {},
   "source": [
    "## Lagrangiano\n",
    "\n",
    "Cálculo de la energía cinética ($T$) y potencial ($V$) en términos de las coordenadas generalizadas ($q_{i}$) y sus velocidades ($\\dot{q}_i$). Luego el Lagrangiano del sistema resulta\n",
    "$$ \\mathcal{L} = T - V $$"
   ]
  },
  {
   "cell_type": "code",
   "execution_count": 6,
   "metadata": {},
   "outputs": [
    {
     "data": {
      "text/latex": [
       "$\\displaystyle \\left[\\begin{matrix}l m \\left(g \\sin{\\left(q{\\left(t \\right)} \\right)} + 1.0 l \\frac{d^{2}}{d t^{2}} q{\\left(t \\right)}\\right)\\end{matrix}\\right]$"
      ],
      "text/plain": [
       "⎡    ⎛                      2      ⎞⎤\n",
       "⎢    ⎜                     d       ⎟⎥\n",
       "⎢l⋅m⋅⎜g⋅sin(q(t)) + 1.0⋅l⋅───(q(t))⎟⎥\n",
       "⎢    ⎜                      2      ⎟⎥\n",
       "⎣    ⎝                    dt       ⎠⎦"
      ]
     },
     "metadata": {},
     "output_type": "display_data"
    }
   ],
   "source": [
    "T = 0.5*m*(l*qt)**2\n",
    "V = m*g*l*(1-cos(q))\n",
    "L = T - V;\n",
    "\n",
    "#\n",
    "LM = LagrangesMethod(L,[q])\n",
    "LM.form_lagranges_equations()\n",
    "EOM = LM.eom\n",
    "display(simplify(EOM))\n",
    "\n"
   ]
  },
  {
   "cell_type": "code",
   "execution_count": 14,
   "metadata": {},
   "outputs": [
    {
     "data": {
      "text/latex": [
       "$\\displaystyle \\left[\\begin{matrix}0 & 1\\\\- \\frac{1.0 g \\cos{\\left(q{\\left(t \\right)} \\right)}}{l} & 0\\end{matrix}\\right]$"
      ],
      "text/plain": [
       "⎡        0          1⎤\n",
       "⎢                    ⎥\n",
       "⎢-1.0⋅g⋅cos(q(t))    ⎥\n",
       "⎢─────────────────  0⎥\n",
       "⎣        l           ⎦"
      ]
     },
     "metadata": {},
     "output_type": "display_data"
    }
   ],
   "source": [
    "linearizer = LM.to_linearizer(q_ind=[q], qd_ind=[qt])\n",
    "A, B = linearizer.linearize(A_and_B=True)\n",
    "#A, B = linearizer.linearize(A_and_B=True,op_point=op_point)\n",
    "display(A)"
   ]
  },
  {
   "cell_type": "code",
   "execution_count": null,
   "metadata": {},
   "outputs": [],
   "source": []
  }
 ],
 "metadata": {
  "kernelspec": {
   "display_name": "Python 3",
   "language": "python",
   "name": "python3"
  },
  "language_info": {
   "codemirror_mode": {
    "name": "ipython",
    "version": 3
   },
   "file_extension": ".py",
   "mimetype": "text/x-python",
   "name": "python",
   "nbconvert_exporter": "python",
   "pygments_lexer": "ipython3",
   "version": "3.7.3"
  }
 },
 "nbformat": 4,
 "nbformat_minor": 2
}
